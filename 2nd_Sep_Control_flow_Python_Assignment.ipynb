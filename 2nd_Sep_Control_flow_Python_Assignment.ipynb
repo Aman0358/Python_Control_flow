{
 "cells": [
  {
   "cell_type": "code",
   "execution_count": 8,
   "id": "e08d2260-fba7-4aa2-b61b-bb3b2b503e6b",
   "metadata": {},
   "outputs": [
    {
     "name": "stdin",
     "output_type": "stream",
     "text": [
      "Enter a number:  2\n"
     ]
    },
    {
     "name": "stdout",
     "output_type": "stream",
     "text": [
      "The number is Positive.\n"
     ]
    }
   ],
   "source": [
    "# Basic If-Else Statements:\n",
    "# 1. Write a Python program to check if a given number is positive or negative.\n",
    "number = float(input(\"Enter a number: \"))\n",
    "if number > 0:\n",
    "    print(\"The number is Positive.\")\n",
    "elif number <0:\n",
    "    print(\"The number is Negative.\")\n",
    "else:\n",
    "    print(\"The number is Zero.\")"
   ]
  },
  {
   "cell_type": "code",
   "execution_count": 24,
   "id": "4455af96-dfc3-4326-9eac-097a3cfde619",
   "metadata": {},
   "outputs": [
    {
     "name": "stdin",
     "output_type": "stream",
     "text": [
      "Enter your age:  18\n"
     ]
    },
    {
     "name": "stdout",
     "output_type": "stream",
     "text": [
      "You are eligible for Voting.\n"
     ]
    }
   ],
   "source": [
    "# 2. Create a program that determines if a person is eligible to vote based on their age.\n",
    "Age = int(input(\"Enter your age: \"))\n",
    "if Age >= 18:\n",
    "            print(\"You are eligible for Voting.\")\n",
    "else:\n",
    "    print(\"You are not eligible for Voting.\")"
   ]
  },
  {
   "cell_type": "code",
   "execution_count": 28,
   "id": "5a3739e8-d689-4ad6-a40b-97198c082d4a",
   "metadata": {},
   "outputs": [
    {
     "name": "stdin",
     "output_type": "stream",
     "text": [
      "Enter the first number:  3\n",
      "Enter the second number:  5\n"
     ]
    },
    {
     "name": "stdout",
     "output_type": "stream",
     "text": [
      "The maximum number is: 5.0\n"
     ]
    }
   ],
   "source": [
    "# 3. Develop a program to find the maximum of two numbers using if-else statements.\n",
    "# Input two numbers from the user\n",
    "num1 = float(input(\"Enter the first number: \"))\n",
    "num2 = float(input(\"Enter the second number: \"))\n",
    "\n",
    "# Compare the two numbers to find the maximum\n",
    "if num1 > num2:\n",
    "    maximum = num1\n",
    "else:\n",
    "    maximum = num2\n",
    "\n",
    "# Print the maximum number\n",
    "print(\"The maximum number is:\", maximum)\n"
   ]
  },
  {
   "cell_type": "code",
   "execution_count": 30,
   "id": "81e89d7f-0fd5-46ba-81fb-0e71f97ff232",
   "metadata": {},
   "outputs": [
    {
     "name": "stdin",
     "output_type": "stream",
     "text": [
      "Enter a year:  2020\n"
     ]
    },
    {
     "name": "stdout",
     "output_type": "stream",
     "text": [
      "2020 is a leap year.\n"
     ]
    }
   ],
   "source": [
    "# 4. Write a Python script to classify a given year as a leap year or not.\n",
    "# Input a year from the user\n",
    "year = int(input(\"Enter a year: \"))\n",
    "\n",
    "# Check if it's a leap year\n",
    "if (year % 4 == 0 and year % 100 != 0) or (year % 400 == 0):\n",
    "    print(f\"{year} is a leap year.\")\n",
    "else:\n",
    "    print(f\"{year} is not a leap year.\")\n"
   ]
  },
  {
   "cell_type": "code",
   "execution_count": 32,
   "id": "d2145853-bfdf-49a6-8930-3d30069a6baf",
   "metadata": {},
   "outputs": [
    {
     "name": "stdin",
     "output_type": "stream",
     "text": [
      "Enter a character:  e\n"
     ]
    },
    {
     "name": "stdout",
     "output_type": "stream",
     "text": [
      "e is a vowel.\n"
     ]
    }
   ],
   "source": [
    "# 5. Create a program that checks whether a character is a vowel or a consonant.\n",
    "# Input a character from the user (assuming it's a single letter)\n",
    "character = input(\"Enter a character: \")\n",
    "\n",
    "# Convert the character to lowercase to handle both uppercase and lowercase input\n",
    "character = character.lower()\n",
    "\n",
    "# Check if the character is a vowel or a consonant\n",
    "if character in 'aeiou':\n",
    "    print(f\"{character} is a vowel.\")\n",
    "else:\n",
    "    print(f\"{character} is a consonant.\")\n"
   ]
  },
  {
   "cell_type": "code",
   "execution_count": 39,
   "id": "50acf166-7df0-4a38-89e4-b12d5c6c8323",
   "metadata": {},
   "outputs": [
    {
     "name": "stdin",
     "output_type": "stream",
     "text": [
      "Enter a Number:  4\n"
     ]
    },
    {
     "name": "stdout",
     "output_type": "stream",
     "text": [
      "4 is Even.\n"
     ]
    }
   ],
   "source": [
    "# 6. Implement a program to determine whether a given number is even or odd.\n",
    "number = int(input(\"Enter a Number: \"))\n",
    "if number % 2 == 0:\n",
    "             print(f\"{number} is Even.\")\n",
    "else:\n",
    "                   print(f\"{number} is Odd.\")"
   ]
  },
  {
   "cell_type": "code",
   "execution_count": 41,
   "id": "4c93e36b-d1b9-4c26-b2af-7c7267303971",
   "metadata": {},
   "outputs": [
    {
     "name": "stdin",
     "output_type": "stream",
     "text": [
      "Enter a number:  90\n"
     ]
    },
    {
     "name": "stdout",
     "output_type": "stream",
     "text": [
      "The absolute value of 90.0 is 90.0\n"
     ]
    }
   ],
   "source": [
    "# 7. Write a Python function to calculate the absolute value of a number without using the `abs()` function.\n",
    "def calculate_absolute_value(number):\n",
    "    if number < 0:\n",
    "        return -number\n",
    "    else:\n",
    "        return number\n",
    "\n",
    "# Test the function\n",
    "number = float(input(\"Enter a number: \"))  # Input a number (positive, negative, or zero)\n",
    "absolute_value = calculate_absolute_value(number)\n",
    "print(f\"The absolute value of {number} is {absolute_value}\")\n",
    "\n"
   ]
  },
  {
   "cell_type": "code",
   "execution_count": 43,
   "id": "81fff5bb-a285-4c5a-bb4d-a3ab848e2499",
   "metadata": {},
   "outputs": [
    {
     "name": "stdin",
     "output_type": "stream",
     "text": [
      "Enter the first number:  150\n",
      "Enter the second number:  99\n",
      "Enter the third number:  67\n"
     ]
    },
    {
     "name": "stdout",
     "output_type": "stream",
     "text": [
      "The largest number is: 150.0\n"
     ]
    }
   ],
   "source": [
    "# 8. Develop a program that determines the largest of three given numbers using if-else statements.\n",
    "# Input three numbers from the user\n",
    "num1 = float(input(\"Enter the first number: \"))\n",
    "num2 = float(input(\"Enter the second number: \"))\n",
    "num3 = float(input(\"Enter the third number: \"))\n",
    "\n",
    "# Check which number is the largest\n",
    "if num1 >= num2 and num1 >= num3:\n",
    "    largest = num1\n",
    "elif num2 >= num1 and num2 >= num3:\n",
    "    largest = num2\n",
    "else:\n",
    "    largest = num3\n",
    "\n",
    "# Print the largest number\n",
    "print(f\"The largest number is: {largest}\")\n"
   ]
  },
  {
   "cell_type": "code",
   "execution_count": 46,
   "id": "47556c19-a6dc-4572-932d-9c4687ca88ed",
   "metadata": {},
   "outputs": [
    {
     "name": "stdin",
     "output_type": "stream",
     "text": [
      "Enter a string:  Madam\n"
     ]
    },
    {
     "name": "stdout",
     "output_type": "stream",
     "text": [
      "'Madam' is a palindrome.\n"
     ]
    }
   ],
   "source": [
    "# 9. Create a program that checks if a given string is a palindrome.\n",
    "# Function to check if a string is a palindrome\n",
    "def is_palindrome(string):\n",
    "    # Remove spaces and convert to lowercase for case-insensitive comparison\n",
    "    string = string.replace(\" \", \"\").lower()\n",
    "    \n",
    "    # Compare the string with its reverse\n",
    "    return string == string[::-1]\n",
    "\n",
    "# Input a string from the user\n",
    "input_string = input(\"Enter a string: \")\n",
    "\n",
    "# Check if the input string is a palindrome\n",
    "if is_palindrome(input_string):\n",
    "    print(f\"'{input_string}' is a palindrome.\")\n",
    "else:\n",
    "    print(f\"'{input_string}' is not a palindrome.\")\n"
   ]
  },
  {
   "cell_type": "code",
   "execution_count": 47,
   "id": "e56d5179-b7e7-4493-9e19-1511b5e26dff",
   "metadata": {},
   "outputs": [
    {
     "name": "stdin",
     "output_type": "stream",
     "text": [
      "Enter the student's score (0-100):  82\n"
     ]
    },
    {
     "name": "stdout",
     "output_type": "stream",
     "text": [
      "The student's grade is: B\n"
     ]
    }
   ],
   "source": [
    "# 10. Write a Python program to calculate the grade based on a student's score.\n",
    "# Input the student's score\n",
    "score = float(input(\"Enter the student's score (0-100): \"))\n",
    "\n",
    "# Check and calculate the grade\n",
    "if 0 <= score <= 100:\n",
    "    if score >= 90:\n",
    "        grade = 'A'\n",
    "    elif score >= 80:\n",
    "        grade = 'B'\n",
    "    elif score >= 70:\n",
    "        grade = 'C'\n",
    "    elif score >= 60:\n",
    "        grade = 'D'\n",
    "    else:\n",
    "        grade = 'F'\n",
    "    \n",
    "    print(f\"The student's grade is: {grade}\")\n",
    "else:\n",
    "    print(\"Invalid score. Please enter a score between 0 and 100.\")\n"
   ]
  },
  {
   "cell_type": "code",
   "execution_count": 49,
   "id": "f1d0cacd-2fb8-4d60-80cf-6fec0e8df4f6",
   "metadata": {},
   "outputs": [
    {
     "name": "stdin",
     "output_type": "stream",
     "text": [
      "Enter the first number:  50\n",
      "Enter the second number:  21\n",
      "Enter the third number:  6\n"
     ]
    },
    {
     "name": "stdout",
     "output_type": "stream",
     "text": [
      "The largest number is: 50.0\n"
     ]
    }
   ],
   "source": [
    "# Nested If-Else Statements:\n",
    "# 11. Write a program to find the largest among three numbers using nested if-else statements.\n",
    "# Input three numbers from the user\n",
    "num1 = float(input(\"Enter the first number: \"))\n",
    "num2 = float(input(\"Enter the second number: \"))\n",
    "num3 = float(input(\"Enter the third number: \"))\n",
    "\n",
    "# Find the largest number using nested if-else statements\n",
    "if num1 >= num2:\n",
    "    if num1 >= num3:\n",
    "        largest = num1\n",
    "    else:\n",
    "        largest = num3\n",
    "else:\n",
    "    if num2 >= num3:\n",
    "        largest = num2\n",
    "    else:\n",
    "        largest = num3\n",
    "\n",
    "# Print the largest number\n",
    "print(f\"The largest number is: {largest}\")\n"
   ]
  },
  {
   "cell_type": "code",
   "execution_count": 50,
   "id": "5b1eac89-ee99-4f3b-9622-0be554d043fd",
   "metadata": {},
   "outputs": [
    {
     "name": "stdin",
     "output_type": "stream",
     "text": [
      "Enter the length of the first side:  6\n",
      "Enter the length of the second side:  4\n",
      "Enter the length of the third side:  9\n"
     ]
    },
    {
     "name": "stdout",
     "output_type": "stream",
     "text": [
      "It's a scalene triangle.\n"
     ]
    }
   ],
   "source": [
    "# 12. Implement a program to determine if a triangle is equilateral, isosceles, or scalene.\n",
    "# Input the lengths of the three sides of the triangle\n",
    "side1 = float(input(\"Enter the length of the first side: \"))\n",
    "side2 = float(input(\"Enter the length of the second side: \"))\n",
    "side3 = float(input(\"Enter the length of the third side: \"))\n",
    "\n",
    "# Check if it's a valid triangle\n",
    "if side1 + side2 > side3 and side1 + side3 > side2 and side2 + side3 > side1:\n",
    "    # Check if it's an equilateral triangle (all sides are equal)\n",
    "    if side1 == side2 and side2 == side3:\n",
    "        triangle_type = \"equilateral\"\n",
    "    # Check if it's an isosceles triangle (two sides are equal)\n",
    "    elif side1 == side2 or side1 == side3 or side2 == side3:\n",
    "        triangle_type = \"isosceles\"\n",
    "    # If it's neither equilateral nor isosceles, it's scalene\n",
    "    else:\n",
    "        triangle_type = \"scalene\"\n",
    "    \n",
    "    print(f\"It's a {triangle_type} triangle.\")\n",
    "else:\n",
    "    print(\"It's not a valid triangle.\")\n"
   ]
  },
  {
   "cell_type": "code",
   "execution_count": 51,
   "id": "4055b1c8-c3ce-4e75-8c93-a0d4d7cf14d4",
   "metadata": {},
   "outputs": [
    {
     "name": "stdin",
     "output_type": "stream",
     "text": [
      "Enter a year:  2023\n"
     ]
    },
    {
     "name": "stdout",
     "output_type": "stream",
     "text": [
      "2023 is not a leap year.\n",
      "2023 is not a century year.\n"
     ]
    }
   ],
   "source": [
    "# 13. Develop a program that checks if a year is a leap year and also if it is a century year.\n",
    "# Input a year from the user\n",
    "year = int(input(\"Enter a year: \"))\n",
    "\n",
    "# Check if it's a leap year\n",
    "if (year % 4 == 0 and year % 100 != 0) or (year % 400 == 0):\n",
    "    is_leap_year = True\n",
    "else:\n",
    "    is_leap_year = False\n",
    "\n",
    "# Check if it's a century year\n",
    "is_century_year = year % 100 == 0\n",
    "\n",
    "# Print the results\n",
    "if is_leap_year:\n",
    "    print(f\"{year} is a leap year.\")\n",
    "else:\n",
    "    print(f\"{year} is not a leap year.\")\n",
    "\n",
    "if is_century_year:\n",
    "    print(f\"{year} is a century year.\")\n",
    "else:\n",
    "    print(f\"{year} is not a century year.\")\n"
   ]
  },
  {
   "cell_type": "code",
   "execution_count": 53,
   "id": "c6b8ea50-f238-479e-9d5d-d22567f03cd9",
   "metadata": {},
   "outputs": [
    {
     "name": "stdin",
     "output_type": "stream",
     "text": [
      "Enter a number:  -2\n"
     ]
    },
    {
     "name": "stdout",
     "output_type": "stream",
     "text": [
      "The number is negative.\n"
     ]
    }
   ],
   "source": [
    "# 14. Write a Python script to determine if a number is positive, negative, or zero.\n",
    "# Input a number\n",
    "number = float(input(\"Enter a number: \"))\n",
    "\n",
    "# Check if the number is positive, negative, or zero\n",
    "if number > 0:\n",
    "    print(\"The number is positive.\")\n",
    "elif number < 0:\n",
    "    print(\"The number is negative.\")\n",
    "else:\n",
    "    print(\"The number is zero.\")\n"
   ]
  },
  {
   "cell_type": "code",
   "execution_count": 54,
   "id": "15ef8603-bcfe-46c0-be00-e72da2be1e68",
   "metadata": {},
   "outputs": [
    {
     "name": "stdin",
     "output_type": "stream",
     "text": [
      "Enter your age:  15\n"
     ]
    },
    {
     "name": "stdout",
     "output_type": "stream",
     "text": [
      "You are a teenager.\n"
     ]
    }
   ],
   "source": [
    "# 15. Create a program to check if a person is a teenager (between 13 and 19 years old).\n",
    "# Input the age of the person\n",
    "age = int(input(\"Enter your age: \"))\n",
    "\n",
    "# Check if the person is a teenager\n",
    "if 13 <= age <= 19:\n",
    "    print(\"You are a teenager.\")\n",
    "else:\n",
    "    print(\"You are not a teenager.\")\n"
   ]
  },
  {
   "cell_type": "code",
   "execution_count": 56,
   "id": "979adca6-2f96-4295-a774-6dd20b21bd6d",
   "metadata": {},
   "outputs": [
    {
     "name": "stdin",
     "output_type": "stream",
     "text": [
      "Enter the angle measure in degrees (0-180):  45\n"
     ]
    },
    {
     "name": "stdout",
     "output_type": "stream",
     "text": [
      "The angle is acute.\n"
     ]
    }
   ],
   "source": [
    "# 16. Develop a program that determines the type of angle based on its measure (acute, obtuse, or right).\n",
    "# Input the angle measure from the user\n",
    "angle = float(input(\"Enter the angle measure in degrees (0-180): \"))\n",
    "\n",
    "# Check the type of angle\n",
    "if 0 < angle < 90:\n",
    "    angle_type = \"acute\"\n",
    "elif angle == 90:\n",
    "    angle_type = \"right\"\n",
    "elif 90 < angle < 180:\n",
    "    angle_type = \"obtuse\"\n",
    "else:\n",
    "    angle_type = \"invalid\"\n",
    "\n",
    "# Print the type of angle\n",
    "if angle_type == \"invalid\":\n",
    "    print(\"Invalid angle measure. Please enter an angle between 0 and 180 degrees.\")\n",
    "else:\n",
    "    print(f\"The angle is {angle_type}.\")\n"
   ]
  },
  {
   "cell_type": "code",
   "execution_count": 57,
   "id": "a8600245-6d7b-4466-b432-de0ac920ce04",
   "metadata": {},
   "outputs": [
    {
     "name": "stdin",
     "output_type": "stream",
     "text": [
      "Enter coefficient a:  12\n",
      "Enter coefficient b:  17\n",
      "Enter coefficient c:  5\n"
     ]
    },
    {
     "name": "stdout",
     "output_type": "stream",
     "text": [
      "The roots are real and distinct: -0.4166666666666667 and -1.0\n"
     ]
    }
   ],
   "source": [
    "# 17. Write a Python program to calculate the roots of a quadratic equation.\n",
    "import math\n",
    "\n",
    "# Input coefficients a, b, and c from the user\n",
    "a = float(input(\"Enter coefficient a: \"))\n",
    "b = float(input(\"Enter coefficient b: \"))\n",
    "c = float(input(\"Enter coefficient c: \"))\n",
    "\n",
    "# Calculate the discriminant (D = b^2 - 4ac)\n",
    "discriminant = b ** 2 - 4 * a * c\n",
    "\n",
    "# Check the discriminant to determine the type of roots\n",
    "if discriminant > 0:\n",
    "    # Two real and distinct roots\n",
    "    root1 = (-b + math.sqrt(discriminant)) / (2 * a)\n",
    "    root2 = (-b - math.sqrt(discriminant)) / (2 * a)\n",
    "    print(f\"The roots are real and distinct: {root1} and {root2}\")\n",
    "elif discriminant == 0:\n",
    "    # One real root (a repeated root)\n",
    "    root = -b / (2 * a)\n",
    "    print(f\"The root is real and repeated: {root}\")\n",
    "else:\n",
    "    # Complex roots (no real roots)\n",
    "    real_part = -b / (2 * a)\n",
    "    imaginary_part = math.sqrt(abs(discriminant)) / (2 * a)\n",
    "    print(f\"The roots are complex: {real_part} + {imaginary_part}i and {real_part} - {imaginary_part}i\")\n"
   ]
  },
  {
   "cell_type": "code",
   "execution_count": 58,
   "id": "687fe82c-fb2e-40a9-a7a8-f2b85441660c",
   "metadata": {},
   "outputs": [
    {
     "name": "stdin",
     "output_type": "stream",
     "text": [
      "Enter a number for the day of the week (1-7):  3\n"
     ]
    },
    {
     "name": "stdout",
     "output_type": "stream",
     "text": [
      "The day of the week corresponding to 3 is Wednesday.\n"
     ]
    }
   ],
   "source": [
    "# 18. Implement a program to determine the day of the week based on a user-provided number (1 for Monday, 2 for Tuesday, etc.).\n",
    "# Input a number for the day of the week (1 for Monday, 2 for Tuesday, etc.)\n",
    "day_number = int(input(\"Enter a number for the day of the week (1-7): \"))\n",
    "\n",
    "# Check the day of the week based on the user-provided number\n",
    "if 1 <= day_number <= 7:\n",
    "    days_of_week = [\"Monday\", \"Tuesday\", \"Wednesday\", \"Thursday\", \"Friday\", \"Saturday\", \"Sunday\"]\n",
    "    day_of_week = days_of_week[day_number - 1]\n",
    "    print(f\"The day of the week corresponding to {day_number} is {day_of_week}.\")\n",
    "else:\n",
    "    print(\"Invalid input. Please enter a number between 1 and 7.\")\n"
   ]
  },
  {
   "cell_type": "code",
   "execution_count": 59,
   "id": "e66d524b-1ab6-482e-a522-ba871e4217ac",
   "metadata": {},
   "outputs": [
    {
     "name": "stdin",
     "output_type": "stream",
     "text": [
      "Enter a year:  2022\n"
     ]
    },
    {
     "name": "stdout",
     "output_type": "stream",
     "text": [
      "2022 is not a leap year or not divisible by 400.\n"
     ]
    }
   ],
   "source": [
    "# 19. Create a program that determines if a year is a leap year and also if it is evenly divisible by 400.\n",
    "# Input a year from the user\n",
    "year = int(input(\"Enter a year: \"))\n",
    "\n",
    "# Check if it's a leap year and divisible by 400\n",
    "if (year % 4 == 0 and year % 100 != 0) or (year % 400 == 0):\n",
    "    is_leap_year = True\n",
    "else:\n",
    "    is_leap_year = False\n",
    "\n",
    "# Print the results\n",
    "if is_leap_year:\n",
    "    print(f\"{year} is a leap year and divisible by 400.\")\n",
    "else:\n",
    "    print(f\"{year} is not a leap year or not divisible by 400.\")\n"
   ]
  },
  {
   "cell_type": "code",
   "execution_count": 61,
   "id": "0b50e41a-e7f0-4dde-acb7-7d4bb91cc3e4",
   "metadata": {},
   "outputs": [
    {
     "name": "stdin",
     "output_type": "stream",
     "text": [
      "Enter a number:  5\n"
     ]
    },
    {
     "name": "stdout",
     "output_type": "stream",
     "text": [
      "5 is a prime number.\n"
     ]
    }
   ],
   "source": [
    "# 20. Develop a program that checks if a given number is prime or not using nested if-else statements.\n",
    "# Input a number from the user\n",
    "number = int(input(\"Enter a number: \"))\n",
    "\n",
    "# Check if it's a prime number\n",
    "if number <= 1:\n",
    "    is_prime = False\n",
    "else:\n",
    "    is_prime = True\n",
    "    for i in range(2, int(number**0.5) + 1):\n",
    "        if number % i == 0:\n",
    "            is_prime = False\n",
    "            break\n",
    "\n",
    "# Print the result\n",
    "if is_prime:\n",
    "    print(f\"{number} is a prime number.\")\n",
    "else:\n",
    "    print(f\"{number} is not a prime number.\")\n"
   ]
  },
  {
   "cell_type": "code",
   "execution_count": 62,
   "id": "dee549f2-45a9-406b-9736-437ad388e02a",
   "metadata": {},
   "outputs": [
    {
     "name": "stdin",
     "output_type": "stream",
     "text": [
      "Enter the student's score (0-100):  68\n"
     ]
    },
    {
     "name": "stdout",
     "output_type": "stream",
     "text": [
      "The student's grade is: D\n"
     ]
    }
   ],
   "source": [
    "# Elif Statements:\n",
    "# 21. Write a Python program to assign grades based on different ranges of scores using elif statements.\n",
    "# Input the student's score\n",
    "score = float(input(\"Enter the student's score (0-100): \"))\n",
    "\n",
    "# Assign grades based on score ranges using elif statements\n",
    "if 90 <= score <= 100:\n",
    "    grade = \"A\"\n",
    "elif 80 <= score < 90:\n",
    "    grade = \"B\"\n",
    "elif 70 <= score < 80:\n",
    "    grade = \"C\"\n",
    "elif 60 <= score < 70:\n",
    "    grade = \"D\"\n",
    "elif 0 <= score < 60:\n",
    "    grade = \"F\"\n",
    "else:\n",
    "    grade = \"Invalid\"\n",
    "\n",
    "# Print the assigned grade\n",
    "if grade == \"Invalid\":\n",
    "    print(\"Invalid score. Please enter a score between 0 and 100.\")\n",
    "else:\n",
    "    print(f\"The student's grade is: {grade}\")\n"
   ]
  },
  {
   "cell_type": "code",
   "execution_count": 65,
   "id": "c317bc16-d7b8-4c5a-9eab-82adf0a7db52",
   "metadata": {},
   "outputs": [
    {
     "name": "stdin",
     "output_type": "stream",
     "text": [
      "Enter the first angle in degrees:  45\n",
      "Enter the second angle in degrees:  45\n",
      "Enter the third angle in degrees:  90\n"
     ]
    },
    {
     "name": "stdout",
     "output_type": "stream",
     "text": [
      "The triangle is a right triangle.\n"
     ]
    }
   ],
   "source": [
    "# 22. Implement a program to determine the type of a triangle based on its angles.\n",
    "# Input the three angles of the triangle\n",
    "angle1 = float(input(\"Enter the first angle in degrees: \"))\n",
    "angle2 = float(input(\"Enter the second angle in degrees: \"))\n",
    "angle3 = float(input(\"Enter the third angle in degrees: \"))\n",
    "\n",
    "# Check the type of triangle based on the angles\n",
    "if angle1 + angle2 + angle3 == 180:\n",
    "    if angle1 < 90 and angle2 < 90 and angle3 < 90:\n",
    "        triangle_type = \"acute\"\n",
    "    elif angle1 == 90 or angle2 == 90 or angle3 == 90:\n",
    "        triangle_type = \"right\"\n",
    "    else:\n",
    "        triangle_type = \"obtuse\"\n",
    "else:\n",
    "    triangle_type = \"invalid\"\n",
    "\n",
    "# Print the result\n",
    "if triangle_type == \"invalid\":\n",
    "    print(\"Invalid triangle. The sum of angles should be 180 degrees.\")\n",
    "else:\n",
    "    print(f\"The triangle is a {triangle_type} triangle.\")\n"
   ]
  },
  {
   "cell_type": "code",
   "execution_count": 66,
   "id": "d313f4bb-bf4c-442d-aefa-e6e9a408023b",
   "metadata": {},
   "outputs": [
    {
     "name": "stdin",
     "output_type": "stream",
     "text": [
      "Enter weight in kilograms:  65\n",
      "Enter height in meters:  1.6\n"
     ]
    },
    {
     "name": "stdout",
     "output_type": "stream",
     "text": [
      "The person's BMI is 25.39, which is categorized as overweight.\n"
     ]
    }
   ],
   "source": [
    "# 23. Develop a program to categorize a given person's BMI into underweight, normal, overweight, or obese using elif statements.\n",
    "# Input the person's weight in kilograms and height in meters\n",
    "weight = float(input(\"Enter weight in kilograms: \"))\n",
    "height = float(input(\"Enter height in meters: \"))\n",
    "\n",
    "# Calculate BMI (BMI = weight / (height * height))\n",
    "bmi = weight / (height ** 2)\n",
    "\n",
    "# Categorize the BMI using elif statements\n",
    "if bmi < 18.5:\n",
    "    category = \"underweight\"\n",
    "elif 18.5 <= bmi < 24.9:\n",
    "    category = \"normal weight\"\n",
    "elif 24.9 <= bmi < 29.9:\n",
    "    category = \"overweight\"\n",
    "else:\n",
    "    category = \"obese\"\n",
    "\n",
    "# Print the result\n",
    "print(f\"The person's BMI is {bmi:.2f}, which is categorized as {category}.\")\n"
   ]
  },
  {
   "cell_type": "code",
   "execution_count": 67,
   "id": "d3297a62-67a5-42dc-99dd-f7b4bf651888",
   "metadata": {},
   "outputs": [
    {
     "name": "stdin",
     "output_type": "stream",
     "text": [
      "Enter a number:  3\n"
     ]
    },
    {
     "name": "stdout",
     "output_type": "stream",
     "text": [
      "The number is positive.\n"
     ]
    }
   ],
   "source": [
    "# 24. Create a program that determines whether a given number is positive, negative, or zero using elif statements.\n",
    "# Input a number\n",
    "number = float(input(\"Enter a number: \"))\n",
    "\n",
    "# Determine if the number is positive, negative, or zero using elif statements\n",
    "if number > 0:\n",
    "    result = \"positive\"\n",
    "elif number < 0:\n",
    "    result = \"negative\"\n",
    "else:\n",
    "    result = \"zero\"\n",
    "\n",
    "# Print the result\n",
    "print(f\"The number is {result}.\")\n"
   ]
  },
  {
   "cell_type": "code",
   "execution_count": 71,
   "id": "b7b6044a-29b7-48f5-ba03-081d824e2c15",
   "metadata": {},
   "outputs": [
    {
     "name": "stdin",
     "output_type": "stream",
     "text": [
      "Enter a character:  A\n"
     ]
    },
    {
     "name": "stdout",
     "output_type": "stream",
     "text": [
      "The character 'A' is a uppercase character.\n"
     ]
    }
   ],
   "source": [
    "# 25. Write a Python script to determine the type of a character (uppercase, lowercase, or special) using elif statements.\n",
    "# Input a character from the user\n",
    "character = input(\"Enter a character: \")\n",
    "\n",
    "# Check the type of character using elif statements\n",
    "if character.isalpha():\n",
    "    if character.isupper():\n",
    "        char_type = \"uppercase\"\n",
    "    elif character.islower():\n",
    "        char_type = \"lowercase\"\n",
    "else:\n",
    "    char_type = \"special\"\n",
    "\n",
    "# Print the result\n",
    "print(f\"The character '{character}' is a {char_type} character.\")\n"
   ]
  },
  {
   "cell_type": "code",
   "execution_count": 72,
   "id": "89325c0a-bf1c-432b-a266-be88b82b4bf4",
   "metadata": {},
   "outputs": [
    {
     "name": "stdin",
     "output_type": "stream",
     "text": [
      "Enter the purchase amount:  250\n"
     ]
    },
    {
     "name": "stdout",
     "output_type": "stream",
     "text": [
      "Discounted price: $245.00 (You saved $5.00)\n"
     ]
    }
   ],
   "source": [
    "# 26. Implement a program to calculate the discounted price based on different purchase amounts using elif statements.\n",
    "# Input the purchase amount from the user\n",
    "purchase_amount = float(input(\"Enter the purchase amount: \"))\n",
    "\n",
    "# Initialize variables for discount rates\n",
    "discount_rate = 0.0\n",
    "\n",
    "# Calculate the discount rate based on the purchase amount using elif statements\n",
    "if purchase_amount >= 1000:\n",
    "    discount_rate = 0.1  # 10% discount for purchases of $1000 or more\n",
    "elif purchase_amount >= 500:\n",
    "    discount_rate = 0.05  # 5% discount for purchases between $500 and $999\n",
    "elif purchase_amount >= 100:\n",
    "    discount_rate = 0.02  # 2% discount for purchases between $100 and $499\n",
    "\n",
    "# Calculate the discounted price\n",
    "discounted_price = purchase_amount - (purchase_amount * discount_rate)\n",
    "\n",
    "# Print the result\n",
    "if discount_rate > 0:\n",
    "    print(f\"Discounted price: ${discounted_price:.2f} (You saved ${(purchase_amount - discounted_price):.2f})\")\n",
    "else:\n",
    "    print(f\"No discount applied. Total price: ${purchase_amount:.2f}\")\n"
   ]
  },
  {
   "cell_type": "code",
   "execution_count": 74,
   "id": "9f33c87e-6c6c-42ed-b0ad-f9b94442648f",
   "metadata": {},
   "outputs": [
    {
     "name": "stdin",
     "output_type": "stream",
     "text": [
      "Enter electricity consumption in kWh:  200\n"
     ]
    },
    {
     "name": "stdout",
     "output_type": "stream",
     "text": [
      "Electricity consumption: 200.00 kWh\n",
      "Electricity rate: $0.15 per kWh\n",
      "Total bill: $25.00\n"
     ]
    }
   ],
   "source": [
    "# 27. Develop a program to calculate the electricity bill based on different consumption slabs using elif statements.\n",
    "# Input the electricity consumption in kilowatt-hours (kWh)\n",
    "consumption = float(input(\"Enter electricity consumption in kWh: \"))\n",
    "\n",
    "# Initialize variables for the electricity rate and total bill\n",
    "electricity_rate = 0.0\n",
    "total_bill = 0.0\n",
    "\n",
    "# Calculate the electricity rate and total bill based on consumption using elif statements\n",
    "if consumption <= 100:\n",
    "    electricity_rate = 0.10  # $0.10 per kWh for the first 100 kWh\n",
    "    total_bill = consumption * electricity_rate\n",
    "elif consumption <= 300:\n",
    "    electricity_rate = 0.15  # $0.15 per kWh for consumption between 101 kWh and 300 kWh\n",
    "    total_bill = 100 * 0.10 + (consumption - 100) * electricity_rate\n",
    "elif consumption <= 500:\n",
    "    electricity_rate = 0.20  # $0.20 per kWh for consumption between 301 kWh and 500 kWh\n",
    "    total_bill = 100 * 0.10 + 200 * 0.15 + (consumption - 300) * electricity_rate\n",
    "else:\n",
    "    electricity_rate = 0.25  # $0.25 per kWh for consumption over 500 kWh\n",
    "    total_bill = 100 * 0.10 + 200 * 0.15 + 200 * 0.20 + (consumption - 500) * electricity_rate\n",
    "\n",
    "# Print the result\n",
    "print(f\"Electricity consumption: {consumption:.2f} kWh\")\n",
    "print(f\"Electricity rate: ${electricity_rate:.2f} per kWh\")\n",
    "print(f\"Total bill: ${total_bill:.2f}\")\n"
   ]
  },
  {
   "cell_type": "code",
   "execution_count": 76,
   "id": "85dd713b-ce4e-4b63-a050-82d812f69a21",
   "metadata": {},
   "outputs": [
    {
     "name": "stdin",
     "output_type": "stream",
     "text": [
      "Enter the first angle in degrees:  30\n",
      "Enter the second angle in degrees:  45\n",
      "Enter the third angle in degrees:  30\n",
      "Enter the fourth angle in degrees:  45\n",
      "Enter the length of the first side:  6\n",
      "Enter the length of the second side:  8\n",
      "Enter the length of the third side:  4\n",
      "Enter the length of the fourth side:  5\n"
     ]
    },
    {
     "name": "stdout",
     "output_type": "stream",
     "text": [
      "The quadrilateral is a quadrilateral.\n"
     ]
    }
   ],
   "source": [
    "# 28. Create a program to determine the type of quadrilateral based on its angles and sides using elif statements.\n",
    "# Input the angles and sides of the quadrilateral\n",
    "angle1 = float(input(\"Enter the first angle in degrees: \"))\n",
    "angle2 = float(input(\"Enter the second angle in degrees: \"))\n",
    "angle3 = float(input(\"Enter the third angle in degrees: \"))\n",
    "angle4 = float(input(\"Enter the fourth angle in degrees: \"))\n",
    "side1 = float(input(\"Enter the length of the first side: \"))\n",
    "side2 = float(input(\"Enter the length of the second side: \"))\n",
    "side3 = float(input(\"Enter the length of the third side: \"))\n",
    "side4 = float(input(\"Enter the length of the fourth side: \"))\n",
    "\n",
    "# Check the type of quadrilateral using elif statements\n",
    "if angle1 == angle2 == angle3 == angle4 == 90:\n",
    "    if side1 == side2 == side3 == side4:\n",
    "        quadrilateral_type = \"square\"\n",
    "    elif side1 == side3 and side2 == side4:\n",
    "        quadrilateral_type = \"rectangle\"\n",
    "    else:\n",
    "        quadrilateral_type = \"quadrilateral\"\n",
    "elif side1 == side2 == side3 == side4:\n",
    "    if angle1 == angle2 == angle3 == angle4:\n",
    "        quadrilateral_type = \"rhombus\"\n",
    "    else:\n",
    "        quadrilateral_type = \"parallelogram\"\n",
    "else:\n",
    "    quadrilateral_type = \"quadrilateral\"\n",
    "\n",
    "# Print the result\n",
    "print(f\"The quadrilateral is a {quadrilateral_type}.\")\n"
   ]
  },
  {
   "cell_type": "code",
   "execution_count": 77,
   "id": "80a8c4c1-b44b-4081-86bd-82fae13ed457",
   "metadata": {},
   "outputs": [
    {
     "name": "stdin",
     "output_type": "stream",
     "text": [
      "Enter a month (e.g., January, February, etc.):  May\n"
     ]
    },
    {
     "name": "stdout",
     "output_type": "stream",
     "text": [
      "The season for May is spring.\n"
     ]
    }
   ],
   "source": [
    "# 29. Write a Python script to determine the season based on a user-provided month using elif statements.\n",
    "# Input the month from the user\n",
    "month = input(\"Enter a month (e.g., January, February, etc.): \")\n",
    "\n",
    "# Convert the month to lowercase for case-insensitive comparison\n",
    "month = month.lower()\n",
    "\n",
    "# Determine the season based on the month using elif statements\n",
    "if month in [\"december\", \"january\", \"february\"]:\n",
    "    season = \"winter\"\n",
    "elif month in [\"march\", \"april\", \"may\"]:\n",
    "    season = \"spring\"\n",
    "elif month in [\"june\", \"july\", \"august\"]:\n",
    "    season = \"summer\"\n",
    "elif month in [\"september\", \"october\", \"november\"]:\n",
    "    season = \"fall\"\n",
    "else:\n",
    "    season = \"unknown\"\n",
    "\n",
    "# Print the result\n",
    "if season != \"unknown\":\n",
    "    print(f\"The season for {month.capitalize()} is {season}.\")\n",
    "else:\n",
    "    print(\"Unknown month. Please enter a valid month name.\")\n"
   ]
  },
  {
   "cell_type": "code",
   "execution_count": 78,
   "id": "e9ac432c-e9db-4d38-97da-6b812f0b00d8",
   "metadata": {},
   "outputs": [
    {
     "name": "stdin",
     "output_type": "stream",
     "text": [
      "Enter a year:   2016\n",
      "Enter a month (1-12):  11\n"
     ]
    },
    {
     "name": "stdout",
     "output_type": "stream",
     "text": [
      "2016 is a leap year and the month of 11 has 30 days.\n"
     ]
    }
   ],
   "source": [
    "# 30. Implement a program to determine the type of a year (leap or common) and month (30 or 31 days) using elif statements.\n",
    "# Input the year and month from the user\n",
    "year = int(input(\"Enter a year: \"))\n",
    "month = int(input(\"Enter a month (1-12): \"))\n",
    "\n",
    "# Determine if it's a leap year using elif statements\n",
    "is_leap_year = False\n",
    "if (year % 4 == 0 and year % 100 != 0) or (year % 400 == 0):\n",
    "    is_leap_year = True\n",
    "\n",
    "# Determine the number of days in the month using elif statements\n",
    "if month < 1 or month > 12:\n",
    "    days_in_month = -1  # Invalid month\n",
    "elif month in [1, 3, 5, 7, 8, 10, 12]:\n",
    "    days_in_month = 31  # Months with 31 days\n",
    "elif month in [4, 6, 9, 11]:\n",
    "    days_in_month = 30  # Months with 30 days\n",
    "else:\n",
    "    if is_leap_year and month == 2:\n",
    "        days_in_month = 29  # February in a leap year\n",
    "    else:\n",
    "        days_in_month = 28  # February in a common year\n",
    "\n",
    "# Print the results\n",
    "if days_in_month == -1:\n",
    "    print(\"Invalid month. Please enter a valid month (1-12).\")\n",
    "else:\n",
    "    if is_leap_year:\n",
    "        year_type = \"leap year\"\n",
    "    else:\n",
    "        year_type = \"common year\"\n",
    "    \n",
    "    print(f\"{year} is a {year_type} and the month of {month} has {days_in_month} days.\")\n"
   ]
  },
  {
   "cell_type": "code",
   "execution_count": 79,
   "id": "eae20bc1-d250-4c24-8d3a-a439a0f9f866",
   "metadata": {},
   "outputs": [
    {
     "name": "stdin",
     "output_type": "stream",
     "text": [
      "Enter a number:  2\n"
     ]
    },
    {
     "name": "stdout",
     "output_type": "stream",
     "text": [
      "The number is positive.\n"
     ]
    }
   ],
   "source": [
    "# Basic Level:\n",
    "# 1. Write a Python program that checks if a given number is positive, negative, or zero.\n",
    "# Input a number\n",
    "number = float(input(\"Enter a number: \"))\n",
    "\n",
    "# Check if it's positive, negative, or zero\n",
    "if number > 0:\n",
    "    print(\"The number is positive.\")\n",
    "elif number < 0:\n",
    "    print(\"The number is negative.\")\n",
    "else:\n",
    "    print(\"The number is zero.\")\n"
   ]
  },
  {
   "cell_type": "code",
   "execution_count": 80,
   "id": "55963f36-bcd3-49ed-abb2-a3de9bac5ef6",
   "metadata": {},
   "outputs": [
    {
     "name": "stdin",
     "output_type": "stream",
     "text": [
      "Enter your age:  18\n"
     ]
    },
    {
     "name": "stdout",
     "output_type": "stream",
     "text": [
      "You are eligible to vote.\n"
     ]
    }
   ],
   "source": [
    "# 2. Create a program to determine if a person is eligible to vote based on their age.\n",
    "# Input the person's age\n",
    "age = int(input(\"Enter your age: \"))\n",
    "\n",
    "# Check if the person is eligible to vote\n",
    "if age >= 18:\n",
    "    print(\"You are eligible to vote.\")\n",
    "else:\n",
    "    print(\"You are not eligible to vote.\")\n"
   ]
  },
  {
   "cell_type": "code",
   "execution_count": 81,
   "id": "64fb3327-fea2-49c5-b554-f3cef9e3e079",
   "metadata": {},
   "outputs": [
    {
     "name": "stdin",
     "output_type": "stream",
     "text": [
      "Enter the first number:  3\n",
      "Enter the second number:  4\n"
     ]
    },
    {
     "name": "stdout",
     "output_type": "stream",
     "text": [
      "The maximum of 3.0 and 4.0 is 4.0.\n"
     ]
    }
   ],
   "source": [
    "# 3. Write a program to find the maximum of two given numbers using conditional statements.\n",
    "# Input two numbers\n",
    "num1 = float(input(\"Enter the first number: \"))\n",
    "num2 = float(input(\"Enter the second number: \"))\n",
    "\n",
    "# Find the maximum using conditional statements\n",
    "if num1 > num2:\n",
    "    maximum = num1\n",
    "else:\n",
    "    maximum = num2\n",
    "\n",
    "# Print the maximum\n",
    "print(f\"The maximum of {num1} and {num2} is {maximum}.\")\n"
   ]
  },
  {
   "cell_type": "code",
   "execution_count": 83,
   "id": "e7d7908d-4d94-452f-b1ee-03b83288bdcd",
   "metadata": {},
   "outputs": [
    {
     "name": "stdin",
     "output_type": "stream",
     "text": [
      "Enter the exam score:  85\n"
     ]
    },
    {
     "name": "stdout",
     "output_type": "stream",
     "text": [
      "The student's grade is: B\n"
     ]
    }
   ],
   "source": [
    "# 4. Develop a program that calculates the grade of a student based on their exam score.\n",
    "# Input the student's exam score\n",
    "score = float(input(\"Enter the exam score: \"))\n",
    "\n",
    "# Determine the grade based on the score\n",
    "if 90 <= score <= 100:\n",
    "    grade = \"A\"\n",
    "elif 80 <= score < 90:\n",
    "    grade = \"B\"\n",
    "elif 70 <= score < 80:\n",
    "    grade = \"C\"\n",
    "elif 60 <= score < 70:\n",
    "    grade = \"D\"\n",
    "else:\n",
    "    grade = \"F\"\n",
    "\n",
    "# Print the grade\n",
    "print(f\"The student's grade is: {grade}\")\n"
   ]
  },
  {
   "cell_type": "code",
   "execution_count": 84,
   "id": "09d4dab1-9bde-439b-b0d2-8080153b2f0e",
   "metadata": {},
   "outputs": [
    {
     "name": "stdin",
     "output_type": "stream",
     "text": [
      "Enter a year:  2014\n"
     ]
    },
    {
     "name": "stdout",
     "output_type": "stream",
     "text": [
      "2014 is not a leap year.\n"
     ]
    }
   ],
   "source": [
    "#5. Create a program that checks if a year is a leap year or not.\n",
    "# Input a year\n",
    "year = int(input(\"Enter a year: \"))\n",
    "\n",
    "# Check if it's a leap year\n",
    "if (year % 4 == 0 and year % 100 != 0) or (year % 400 == 0):\n",
    "    print(f\"{year} is a leap year.\")\n",
    "else:\n",
    "    print(f\"{year} is not a leap year.\")\n"
   ]
  },
  {
   "cell_type": "code",
   "execution_count": 85,
   "id": "aa742c39-8d6a-4396-8c34-7557b258d610",
   "metadata": {},
   "outputs": [
    {
     "name": "stdin",
     "output_type": "stream",
     "text": [
      "Enter the length of the first side:  4\n",
      "Enter the length of the second side:  6\n",
      "Enter the length of the third side:  5\n"
     ]
    },
    {
     "name": "stdout",
     "output_type": "stream",
     "text": [
      "The triangle is a scalene triangle.\n"
     ]
    }
   ],
   "source": [
    "# 6. Write a program to classify a triangle based on its sides' lengths.\n",
    "# Input the lengths of the three sides of the triangle\n",
    "side1 = float(input(\"Enter the length of the first side: \"))\n",
    "side2 = float(input(\"Enter the length of the second side: \"))\n",
    "side3 = float(input(\"Enter the length of the third side: \"))\n",
    "\n",
    "# Check the type of triangle based on side lengths\n",
    "if side1 == side2 == side3:\n",
    "    triangle_type = \"equilateral\"\n",
    "elif side1 == side2 or side1 == side3 or side2 == side3:\n",
    "    triangle_type = \"isosceles\"\n",
    "else:\n",
    "    triangle_type = \"scalene\"\n",
    "\n",
    "# Print the result\n",
    "print(f\"The triangle is a {triangle_type} triangle.\")\n"
   ]
  },
  {
   "cell_type": "code",
   "execution_count": 86,
   "id": "985ab6f8-4c90-4231-bbdd-4185fd8c567a",
   "metadata": {},
   "outputs": [
    {
     "name": "stdin",
     "output_type": "stream",
     "text": [
      "Enter the first number:  4\n",
      "Enter the second number:  5\n",
      "Enter the third number:  8\n"
     ]
    },
    {
     "name": "stdout",
     "output_type": "stream",
     "text": [
      "The largest number is: 8.0\n"
     ]
    }
   ],
   "source": [
    "# 7. Build a program that determines the largest of three given numbers.\n",
    "# Input three numbers\n",
    "num1 = float(input(\"Enter the first number: \"))\n",
    "num2 = float(input(\"Enter the second number: \"))\n",
    "num3 = float(input(\"Enter the third number: \"))\n",
    "\n",
    "# Determine the largest number using conditional statements\n",
    "if num1 >= num2 and num1 >= num3:\n",
    "    largest = num1\n",
    "elif num2 >= num1 and num2 >= num3:\n",
    "    largest = num2\n",
    "else:\n",
    "    largest = num3\n",
    "\n",
    "# Print the largest number\n",
    "print(f\"The largest number is: {largest}\")\n"
   ]
  },
  {
   "cell_type": "code",
   "execution_count": 87,
   "id": "97ac2cc8-45d5-42d7-beaa-e6f923572cf9",
   "metadata": {},
   "outputs": [
    {
     "name": "stdin",
     "output_type": "stream",
     "text": [
      "Enter a character:  A\n"
     ]
    },
    {
     "name": "stdout",
     "output_type": "stream",
     "text": [
      "It's a vowel.\n"
     ]
    }
   ],
   "source": [
    "# 8. Develop a program that checks whether a character is a vowel or a consonant.\n",
    "# Input a character\n",
    "character = input(\"Enter a character: \")\n",
    "\n",
    "# Convert the character to lowercase for case-insensitive comparison\n",
    "character = character.lower()\n",
    "\n",
    "# Check if it's a vowel or a consonant\n",
    "if character.isalpha() and len(character) == 1:\n",
    "    if character in \"aeiou\":\n",
    "        print(\"It's a vowel.\")\n",
    "    else:\n",
    "        print(\"It's a consonant.\")\n",
    "else:\n",
    "    print(\"Invalid input. Please enter a single alphabet character.\")\n"
   ]
  },
  {
   "cell_type": "code",
   "execution_count": 88,
   "id": "65239a03-77cd-410c-a464-70b49395779c",
   "metadata": {},
   "outputs": [
    {
     "name": "stdout",
     "output_type": "stream",
     "text": [
      "Total cost before discounts: $100.00\n",
      "Total cost after discounts: $90.00\n"
     ]
    }
   ],
   "source": [
    "# 9. Create a program to calculate the total cost of a shopping cart based on discounts.\n",
    "# Define the prices and quantities of items in the shopping cart\n",
    "item_prices = {\n",
    "    \"item1\": 10.0,\n",
    "    \"item2\": 20.0,\n",
    "    \"item3\": 30.0,\n",
    "    # Add more items and prices here\n",
    "}\n",
    "\n",
    "item_quantities = {\n",
    "    \"item1\": 3,\n",
    "    \"item2\": 2,\n",
    "    \"item3\": 1,\n",
    "    # Add more items and quantities here\n",
    "}\n",
    "\n",
    "# Calculate the total cost before applying discounts\n",
    "total_cost = sum(item_prices[item] * item_quantities[item] for item in item_prices)\n",
    "\n",
    "# Apply discounts based on total cost\n",
    "if total_cost >= 100:\n",
    "    discount = total_cost * 0.10  # 10% discount for total cost >= $100\n",
    "    total_cost -= discount\n",
    "\n",
    "# Print the total cost\n",
    "print(f\"Total cost before discounts: ${total_cost + discount:.2f}\")\n",
    "print(f\"Total cost after discounts: ${total_cost:.2f}\")\n"
   ]
  },
  {
   "cell_type": "code",
   "execution_count": 89,
   "id": "65dcd7f5-dcda-46e4-bd8e-5572a3ca6e00",
   "metadata": {},
   "outputs": [
    {
     "name": "stdin",
     "output_type": "stream",
     "text": [
      "Enter a number:  4\n"
     ]
    },
    {
     "name": "stdout",
     "output_type": "stream",
     "text": [
      "4 is even.\n"
     ]
    }
   ],
   "source": [
    "# 10. Write a program that checks if a given number is even or odd.\n",
    "# Input a number\n",
    "number = int(input(\"Enter a number: \"))\n",
    "\n",
    "# Check if it's even or odd\n",
    "if number % 2 == 0:\n",
    "    print(f\"{number} is even.\")\n",
    "else:\n",
    "    print(f\"{number} is odd.\")\n"
   ]
  },
  {
   "cell_type": "code",
   "execution_count": 90,
   "id": "8974727a-dd5a-4bbf-b160-516a8a0bc145",
   "metadata": {},
   "outputs": [
    {
     "name": "stdin",
     "output_type": "stream",
     "text": [
      "Enter the coefficient a:  4\n",
      "Enter the coefficient b:  6\n",
      "Enter the coefficient c:  3\n"
     ]
    },
    {
     "name": "stdout",
     "output_type": "stream",
     "text": [
      "Root 1: -0.75 + 0.43i\n",
      "Root 2: -0.75 - 0.43i\n"
     ]
    }
   ],
   "source": [
    "# Intermediate Level:\n",
    "# 11. Write a program that calculates the roots of a quadratic equation .\n",
    "import math\n",
    "\n",
    "# Input coefficients of the quadratic equation\n",
    "a = float(input(\"Enter the coefficient a: \"))\n",
    "b = float(input(\"Enter the coefficient b: \"))\n",
    "c = float(input(\"Enter the coefficient c: \"))\n",
    "\n",
    "# Calculate the discriminant\n",
    "discriminant = b**2 - 4*a*c\n",
    "\n",
    "# Check if the discriminant is positive, negative, or zero\n",
    "if discriminant > 0:\n",
    "    # Two real and distinct roots\n",
    "    root1 = (-b + math.sqrt(discriminant)) / (2*a)\n",
    "    root2 = (-b - math.sqrt(discriminant)) / (2*a)\n",
    "    print(f\"Root 1: {root1:.2f}\")\n",
    "    print(f\"Root 2: {root2:.2f}\")\n",
    "elif discriminant == 0:\n",
    "    # One real root (repeated)\n",
    "    root = -b / (2*a)\n",
    "    print(f\"Root: {root:.2f}\")\n",
    "else:\n",
    "    # Complex roots\n",
    "    real_part = -b / (2*a)\n",
    "    imaginary_part = math.sqrt(abs(discriminant)) / (2*a)\n",
    "    print(f\"Root 1: {real_part:.2f} + {imaginary_part:.2f}i\")\n",
    "    print(f\"Root 2: {real_part:.2f} - {imaginary_part:.2f}i\")\n"
   ]
  },
  {
   "cell_type": "code",
   "execution_count": 91,
   "id": "8265696a-afaa-41f0-acb7-30a1b253b4c8",
   "metadata": {},
   "outputs": [
    {
     "name": "stdin",
     "output_type": "stream",
     "text": [
      "Enter a day number (1-7):  5\n"
     ]
    },
    {
     "name": "stdout",
     "output_type": "stream",
     "text": [
      "Day number 5 corresponds to Friday.\n"
     ]
    }
   ],
   "source": [
    "# 12. Create a program that determines the day of the week based on the day number (1-7).\n",
    "# Input the day number (1-7)\n",
    "day_number = int(input(\"Enter a day number (1-7): \"))\n",
    "\n",
    "# Check and determine the day of the week\n",
    "if day_number == 1:\n",
    "    day_name = \"Monday\"\n",
    "elif day_number == 2:\n",
    "    day_name = \"Tuesday\"\n",
    "elif day_number == 3:\n",
    "    day_name = \"Wednesday\"\n",
    "elif day_number == 4:\n",
    "    day_name = \"Thursday\"\n",
    "elif day_number == 5:\n",
    "    day_name = \"Friday\"\n",
    "elif day_number == 6:\n",
    "    day_name = \"Saturday\"\n",
    "elif day_number == 7:\n",
    "    day_name = \"Sunday\"\n",
    "else:\n",
    "    day_name = \"Invalid\"\n",
    "\n",
    "# Print the day of the week or an error message\n",
    "if day_name != \"Invalid\":\n",
    "    print(f\"Day number {day_number} corresponds to {day_name}.\")\n",
    "else:\n",
    "    print(\"Invalid day number. Please enter a number between 1 and 7.\")\n"
   ]
  },
  {
   "cell_type": "code",
   "execution_count": 92,
   "id": "d1609f34-55af-4651-8cdb-3d217016dcd8",
   "metadata": {},
   "outputs": [
    {
     "name": "stdin",
     "output_type": "stream",
     "text": [
      "Enter a non-negative integer:  5\n"
     ]
    },
    {
     "name": "stdout",
     "output_type": "stream",
     "text": [
      "The factorial of 5 is 120.\n"
     ]
    }
   ],
   "source": [
    "# 13. Develop a program that calculates the factorial of a given number using recursion.\n",
    "# Define a recursive function to calculate the factorial\n",
    "def factorial(n):\n",
    "    if n == 0:\n",
    "        return 1\n",
    "    else:\n",
    "        return n * factorial(n - 1)\n",
    "\n",
    "# Input a number\n",
    "num = int(input(\"Enter a non-negative integer: \"))\n",
    "\n",
    "# Check if the input is non-negative\n",
    "if num < 0:\n",
    "    print(\"Factorial is not defined for negative numbers.\")\n",
    "else:\n",
    "    result = factorial(num)\n",
    "    print(f\"The factorial of {num} is {result}.\")\n"
   ]
  },
  {
   "cell_type": "code",
   "execution_count": 93,
   "id": "969cff3d-fb00-4324-ae46-f738f336a5c6",
   "metadata": {},
   "outputs": [
    {
     "name": "stdin",
     "output_type": "stream",
     "text": [
      "Enter the first number:  45\n",
      "Enter the second number:  30\n",
      "Enter the third number:  81\n"
     ]
    },
    {
     "name": "stdout",
     "output_type": "stream",
     "text": [
      "The largest number is: 81.0\n"
     ]
    }
   ],
   "source": [
    "# 14. Write a program to find the largest among three numbers without using the `max()` function.\n",
    "# Input three numbers\n",
    "num1 = float(input(\"Enter the first number: \"))\n",
    "num2 = float(input(\"Enter the second number: \"))\n",
    "num3 = float(input(\"Enter the third number: \"))\n",
    "\n",
    "# Assume the first number is the largest\n",
    "largest = num1\n",
    "\n",
    "# Compare the second and third numbers to find the largest\n",
    "if num2 > largest:\n",
    "    largest = num2\n",
    "if num3 > largest:\n",
    "    largest = num3\n",
    "\n",
    "# Print the largest number\n",
    "print(f\"The largest number is: {largest}\")\n"
   ]
  },
  {
   "cell_type": "code",
   "execution_count": 94,
   "id": "62b09c0b-a9a8-4c92-b0ba-8f59f9e2b832",
   "metadata": {},
   "outputs": [
    {
     "name": "stdout",
     "output_type": "stream",
     "text": [
      "\n",
      "ATM Menu:\n",
      "1. Display Balance\n",
      "2. Deposit Money\n",
      "3. Withdraw Money\n",
      "4. Exit\n"
     ]
    },
    {
     "name": "stdin",
     "output_type": "stream",
     "text": [
      "Enter your choice (1/2/3/4):  2\n",
      "Enter the amount to deposit: $ 200\n"
     ]
    },
    {
     "name": "stdout",
     "output_type": "stream",
     "text": [
      "$200.00 has been deposited.\n",
      "\n",
      "ATM Menu:\n",
      "1. Display Balance\n",
      "2. Deposit Money\n",
      "3. Withdraw Money\n",
      "4. Exit\n"
     ]
    },
    {
     "name": "stdin",
     "output_type": "stream",
     "text": [
      "Enter your choice (1/2/3/4):  4\n"
     ]
    },
    {
     "name": "stdout",
     "output_type": "stream",
     "text": [
      "Thank you for using the ATM. Goodbye!\n"
     ]
    }
   ],
   "source": [
    "# 15. Create a program that simulates a basic ATM transaction menu.\n",
    "# Initial account balance\n",
    "balance = 1000.0\n",
    "\n",
    "# Function to display account balance\n",
    "def display_balance():\n",
    "    print(f\"Your account balance is: ${balance:.2f}\")\n",
    "\n",
    "# Function to deposit money\n",
    "def deposit():\n",
    "    global balance\n",
    "    amount = float(input(\"Enter the amount to deposit: $\"))\n",
    "    if amount > 0:\n",
    "        balance += amount\n",
    "        print(f\"${amount:.2f} has been deposited.\")\n",
    "    else:\n",
    "        print(\"Invalid amount. Please enter a positive value.\")\n",
    "\n",
    "# Function to withdraw money\n",
    "def withdraw():\n",
    "    global balance\n",
    "    amount = float(input(\"Enter the amount to withdraw: $\"))\n",
    "    if amount > 0 and amount <= balance:\n",
    "        balance -= amount\n",
    "        print(f\"${amount:.2f} has been withdrawn.\")\n",
    "    elif amount <= 0:\n",
    "        print(\"Invalid amount. Please enter a positive value.\")\n",
    "    else:\n",
    "        print(\"Insufficient funds. Withdrawal amount exceeds account balance.\")\n",
    "\n",
    "# ATM transaction menu\n",
    "while True:\n",
    "    print(\"\\nATM Menu:\")\n",
    "    print(\"1. Display Balance\")\n",
    "    print(\"2. Deposit Money\")\n",
    "    print(\"3. Withdraw Money\")\n",
    "    print(\"4. Exit\")\n",
    "    \n",
    "    choice = input(\"Enter your choice (1/2/3/4): \")\n",
    "    \n",
    "    if choice == '1':\n",
    "        display_balance()\n",
    "    elif choice == '2':\n",
    "        deposit()\n",
    "    elif choice == '3':\n",
    "        withdraw()\n",
    "    elif choice == '4':\n",
    "        print(\"Thank you for using the ATM. Goodbye!\")\n",
    "        break\n",
    "    else:\n",
    "        print(\"Invalid choice. Please enter a valid option.\")\n"
   ]
  },
  {
   "cell_type": "code",
   "execution_count": 95,
   "id": "b7a9a20f-6f75-45c1-b501-d5e8c34caeef",
   "metadata": {},
   "outputs": [
    {
     "name": "stdin",
     "output_type": "stream",
     "text": [
      "Enter a string:  hello\n"
     ]
    },
    {
     "name": "stdout",
     "output_type": "stream",
     "text": [
      "The string is not a palindrome.\n"
     ]
    }
   ],
   "source": [
    "# 16. Build a program that checks if a given string is a palindrome or not.\n",
    "# Input a string from the user\n",
    "string = input(\"Enter a string: \")\n",
    "\n",
    "# Remove spaces and convert to lowercase for case-insensitive comparison\n",
    "string = string.replace(\" \", \"\").lower()\n",
    "\n",
    "# Check if it's a palindrome\n",
    "if string == string[::-1]:\n",
    "    print(\"The string is a palindrome.\")\n",
    "else:\n",
    "    print(\"The string is not a palindrome.\")\n",
    "\n"
   ]
  },
  {
   "cell_type": "code",
   "execution_count": 98,
   "id": "cfcaec6d-3573-4f80-8399-bcd60fa37f7c",
   "metadata": {},
   "outputs": [
    {
     "name": "stdin",
     "output_type": "stream",
     "text": [
      "Enter a list of numbers separated by spaces:  112 10 55\n"
     ]
    },
    {
     "name": "stdout",
     "output_type": "stream",
     "text": [
      "The average (excluding the smallest and largest values) is: 55.00\n"
     ]
    }
   ],
   "source": [
    "# 17. Write a program that calculates the average of a list of numbers, excluding the smallest and largest values.\n",
    "# Input a list of numbers separated by spaces\n",
    "input_numbers = input(\"Enter a list of numbers separated by spaces: \")\n",
    "\n",
    "# Convert the input string into a list of floats\n",
    "numbers = [float(num) for num in input_numbers.split()]\n",
    "\n",
    "# Check if there are at least 3 numbers to calculate the average\n",
    "if len(numbers) >= 3:\n",
    "    # Remove the smallest and largest values from the list\n",
    "    numbers.remove(min(numbers))\n",
    "    numbers.remove(max(numbers))\n",
    "    \n",
    "    # Calculate the average of the remaining values\n",
    "    average = sum(numbers) / len(numbers)\n",
    "    \n",
    "    print(f\"The average (excluding the smallest and largest values) is: {average:.2f}\")\n",
    "else:\n",
    "    print(\"At least 3 numbers are required to calculate the average.\")\n"
   ]
  },
  {
   "cell_type": "code",
   "execution_count": 99,
   "id": "2d1e99a2-f008-44b3-9ae9-e438a7809d35",
   "metadata": {},
   "outputs": [
    {
     "name": "stdin",
     "output_type": "stream",
     "text": [
      "Enter temperature in Celsius:  32\n"
     ]
    },
    {
     "name": "stdout",
     "output_type": "stream",
     "text": [
      "32.0 degrees Celsius is equal to 89.6 degrees Fahrenheit.\n"
     ]
    }
   ],
   "source": [
    "# 18. Develop a program that converts a given temperature from Celsius to Fahrenheit.\n",
    "# Input temperature in Celsius\n",
    "celsius = float(input(\"Enter temperature in Celsius: \"))\n",
    "\n",
    "# Convert Celsius to Fahrenheit\n",
    "fahrenheit = (celsius * 9/5) + 32\n",
    "\n",
    "# Display the result\n",
    "print(f\"{celsius} degrees Celsius is equal to {fahrenheit} degrees Fahrenheit.\")\n"
   ]
  },
  {
   "cell_type": "code",
   "execution_count": 1,
   "id": "45e5bb73-b0bc-4811-8028-fd6827fb2e56",
   "metadata": {},
   "outputs": [
    {
     "name": "stdout",
     "output_type": "stream",
     "text": [
      "\n",
      "Calculator Menu:\n",
      "1. Addition\n",
      "2. Subtraction\n",
      "3. Multiplication\n",
      "4. Division\n",
      "5. Exit\n"
     ]
    },
    {
     "name": "stdin",
     "output_type": "stream",
     "text": [
      "Enter your choice (1/2/3/4/5):  1\n",
      "Enter first number:  5\n",
      "Enter second number:  4\n"
     ]
    },
    {
     "name": "stdout",
     "output_type": "stream",
     "text": [
      "Result: 5.0 + 4.0 = 9.0\n",
      "\n",
      "Calculator Menu:\n",
      "1. Addition\n",
      "2. Subtraction\n",
      "3. Multiplication\n",
      "4. Division\n",
      "5. Exit\n"
     ]
    },
    {
     "name": "stdin",
     "output_type": "stream",
     "text": [
      "Enter your choice (1/2/3/4/5):  5\n"
     ]
    },
    {
     "name": "stdout",
     "output_type": "stream",
     "text": [
      "Exiting the calculator. Goodbye!\n"
     ]
    }
   ],
   "source": [
    "# 19. Create a program that simulates a basic calculator for addition, subtraction, multiplication, and division.\n",
    "# Function to perform addition\n",
    "def add(x, y):\n",
    "    return x + y\n",
    "\n",
    "# Function to perform subtraction\n",
    "def subtract(x, y):\n",
    "    return x - y\n",
    "\n",
    "# Function to perform multiplication\n",
    "def multiply(x, y):\n",
    "    return x * y\n",
    "\n",
    "# Function to perform division\n",
    "def divide(x, y):\n",
    "    if y == 0:\n",
    "        return \"Division by zero is not allowed.\"\n",
    "    return x / y\n",
    "\n",
    "# Calculator menu\n",
    "while True:\n",
    "    print(\"\\nCalculator Menu:\")\n",
    "    print(\"1. Addition\")\n",
    "    print(\"2. Subtraction\")\n",
    "    print(\"3. Multiplication\")\n",
    "    print(\"4. Division\")\n",
    "    print(\"5. Exit\")\n",
    "    \n",
    "    choice = input(\"Enter your choice (1/2/3/4/5): \")\n",
    "    \n",
    "    if choice == '1':\n",
    "        num1 = float(input(\"Enter first number: \"))\n",
    "        num2 = float(input(\"Enter second number: \"))\n",
    "        result = add(num1, num2)\n",
    "        print(f\"Result: {num1} + {num2} = {result}\")\n",
    "    elif choice == '2':\n",
    "        num1 = float(input(\"Enter first number: \"))\n",
    "        num2 = float(input(\"Enter second number: \"))\n",
    "        result = subtract(num1, num2)\n",
    "        print(f\"Result: {num1} - {num2} = {result}\")\n",
    "    elif choice == '3':\n",
    "        num1 = float(input(\"Enter first number: \"))\n",
    "        num2 = float(input(\"Enter second number: \"))\n",
    "        result = multiply(num1, num2)\n",
    "        print(f\"Result: {num1} * {num2} = {result}\")\n",
    "    elif choice == '4':\n",
    "        num1 = float(input(\"Enter numerator: \"))\n",
    "        num2 = float(input(\"Enter denominator: \"))\n",
    "        result = divide(num1, num2)\n",
    "        print(f\"Result: {num1} / {num2} = {result}\")\n",
    "    elif choice == '5':\n",
    "        print(\"Exiting the calculator. Goodbye!\")\n",
    "        break\n",
    "    else:\n",
    "        print(\"Invalid choice. Please enter a valid option.\")\n"
   ]
  },
  {
   "cell_type": "code",
   "execution_count": 2,
   "id": "6af0a0eb-7d02-4b1b-b8e0-3e20f79ac3f8",
   "metadata": {},
   "outputs": [
    {
     "name": "stdout",
     "output_type": "stream",
     "text": [
      "Roots: [3.0, (2+0.8660254037844384j), (2-0.8660254037844384j)]\n"
     ]
    }
   ],
   "source": [
    "# 20. Write a program that determines the roots of a cubic equation using the Cardano formula.\n",
    "import math\n",
    "\n",
    "def cubic_roots(a, b, c, d):\n",
    "    # Calculate the discriminant\n",
    "    p = (3 * a * c - b ** 2) / (3 * a ** 2)\n",
    "    q = (2 * b ** 3 - 9 * a * b * c + 27 * a ** 2 * d) / (27 * a ** 3)\n",
    "    discriminant = q ** 2 / 4 + p ** 3 / 27\n",
    "\n",
    "    if discriminant > 0:\n",
    "        # Three real roots\n",
    "        u = (-q / 2 + math.sqrt(discriminant)) ** (1 / 3)\n",
    "        v = (-q / 2 - math.sqrt(discriminant)) ** (1 / 3)\n",
    "        real_root1 = u + v - b / (3 * a)\n",
    "        real_root2 = -(u + v) / 2 - b / (3 * a) + (u - v) * math.sqrt(3) / 2\n",
    "        real_root3 = -(u + v) / 2 - b / (3 * a) - (u - v) * math.sqrt(3) / 2\n",
    "        return [real_root1, real_root2, real_root3]\n",
    "    elif discriminant == 0:\n",
    "        # One real root and two complex roots\n",
    "        u = (-q / 2) ** (1 / 3)\n",
    "        v = (-q / 2) ** (1 / 3)\n",
    "        real_root = 2 * u - b / (3 * a)\n",
    "        complex_root1 = -(u + v) - b / (3 * a)\n",
    "        complex_root2 = (u + v) / 2 * math.sqrt(3)\n",
    "        return [real_root, complex_root1, complex_root2, complex_root2]\n",
    "    else:\n",
    "        # One real root and two complex roots\n",
    "        theta = math.acos(-q / (2 * math.sqrt(-p ** 3)))\n",
    "        u = 2 * math.sqrt(-p / 3) * math.cos(theta / 3)\n",
    "        v = 2 * math.sqrt(-p / 3) * math.cos((theta + 2 * math.pi) / 3)\n",
    "        w = 2 * math.sqrt(-p / 3) * math.cos((theta + 4 * math.pi) / 3)\n",
    "        real_root = u - b / (3 * a)\n",
    "        complex_root1 = -(u + v) / 2 - b / (3 * a) + (v - w) * math.sqrt(3) / 2j\n",
    "        complex_root2 = -(u + v) / 2 - b / (3 * a) - (v - w) * math.sqrt(3) / 2j\n",
    "        return [real_root, complex_root1, complex_root2]\n",
    "\n",
    "# Example usage:\n",
    "a = 1\n",
    "b = -6\n",
    "c = 11\n",
    "d = -6\n",
    "roots = cubic_roots(a, b, c, d)\n",
    "print(\"Roots:\", roots)\n"
   ]
  },
  {
   "cell_type": "code",
   "execution_count": 3,
   "id": "59a6cb4d-e544-4399-bf06-4aa8314078c4",
   "metadata": {},
   "outputs": [
    {
     "name": "stdin",
     "output_type": "stream",
     "text": [
      "Enter your income:  5000\n"
     ]
    },
    {
     "name": "stdout",
     "output_type": "stream",
     "text": [
      "Income Tax: $ 500.00\n"
     ]
    }
   ],
   "source": [
    "# Advanced Level:\n",
    "# 21. Create a program that calculates the income tax based on the user's income and tax brackets.\n",
    "def calculate_income_tax(income):\n",
    "    # Define tax brackets and their respective tax rates\n",
    "    tax_brackets = [\n",
    "        (0, 10000, 0.10),\n",
    "        (10001, 50000, 0.20),\n",
    "        (50001, 100000, 0.30),\n",
    "        (100001, float('inf'), 0.40)\n",
    "    ]\n",
    "\n",
    "    # Initialize the total tax\n",
    "    total_tax = 0\n",
    "\n",
    "    # Calculate tax for each bracket\n",
    "    for bracket in tax_brackets:\n",
    "        min_income, max_income, tax_rate = bracket\n",
    "        if income <= 0:\n",
    "            break\n",
    "        elif income <= max_income:\n",
    "            taxable_income = income - min_income\n",
    "            total_tax += taxable_income * tax_rate\n",
    "            break\n",
    "        else:\n",
    "            taxable_income = max_income - min_income\n",
    "            total_tax += taxable_income * tax_rate\n",
    "            income -= taxable_income\n",
    "\n",
    "    return total_tax\n",
    "\n",
    "# Get user input for income\n",
    "try:\n",
    "    income = float(input(\"Enter your income: \"))\n",
    "    if income < 0:\n",
    "        print(\"Income cannot be negative.\")\n",
    "    else:\n",
    "        tax = calculate_income_tax(income)\n",
    "        print(\"Income Tax: $\", format(tax, \".2f\"))\n",
    "except ValueError:\n",
    "    print(\"Invalid input. Please enter a valid income.\")\n"
   ]
  },
  {
   "cell_type": "code",
   "execution_count": 4,
   "id": "103bf599-b205-4477-8d37-f4c961096ca1",
   "metadata": {},
   "outputs": [
    {
     "name": "stdout",
     "output_type": "stream",
     "text": [
      "Welcome to Rock-Paper-Scissors!\n"
     ]
    },
    {
     "name": "stdin",
     "output_type": "stream",
     "text": [
      "Enter your choice (rock, paper, or scissors):  rock\n"
     ]
    },
    {
     "name": "stdout",
     "output_type": "stream",
     "text": [
      "You chose: rock\n",
      "Computer chose: scissors\n",
      "You win!\n"
     ]
    },
    {
     "name": "stdin",
     "output_type": "stream",
     "text": [
      "Do you want to play again? (yes/no):  no\n"
     ]
    }
   ],
   "source": [
    "# 22. Write a program that simulates a rock-paper-scissors game against the computer.\n",
    "import random\n",
    "\n",
    "def get_user_choice():\n",
    "    while True:\n",
    "        user_choice = input(\"Enter your choice (rock, paper, or scissors): \").lower()\n",
    "        if user_choice in [\"rock\", \"paper\", \"scissors\"]:\n",
    "            return user_choice\n",
    "        else:\n",
    "            print(\"Invalid choice. Please choose from rock, paper, or scissors.\")\n",
    "\n",
    "def get_computer_choice():\n",
    "    choices = [\"rock\", \"paper\", \"scissors\"]\n",
    "    return random.choice(choices)\n",
    "\n",
    "def determine_winner(user_choice, computer_choice):\n",
    "    if user_choice == computer_choice:\n",
    "        return \"It's a tie!\"\n",
    "    elif (\n",
    "        (user_choice == \"rock\" and computer_choice == \"scissors\") or\n",
    "        (user_choice == \"paper\" and computer_choice == \"rock\") or\n",
    "        (user_choice == \"scissors\" and computer_choice == \"paper\")\n",
    "    ):\n",
    "        return \"You win!\"\n",
    "    else:\n",
    "        return \"Computer wins!\"\n",
    "\n",
    "def main():\n",
    "    print(\"Welcome to Rock-Paper-Scissors!\")\n",
    "    while True:\n",
    "        user_choice = get_user_choice()\n",
    "        computer_choice = get_computer_choice()\n",
    "        print(f\"You chose: {user_choice}\")\n",
    "        print(f\"Computer chose: {computer_choice}\")\n",
    "        result = determine_winner(user_choice, computer_choice)\n",
    "        print(result)\n",
    "        \n",
    "        play_again = input(\"Do you want to play again? (yes/no): \").lower()\n",
    "        if play_again != \"yes\":\n",
    "            break\n",
    "\n",
    "if __name__ == \"__main__\":\n",
    "    main()\n"
   ]
  },
  {
   "cell_type": "code",
   "execution_count": 5,
   "id": "8c4dff8b-b30e-4df9-932c-9086fdc0b16d",
   "metadata": {},
   "outputs": [
    {
     "name": "stdout",
     "output_type": "stream",
     "text": [
      "Welcome to the Random Password Generator!\n"
     ]
    },
    {
     "name": "stdin",
     "output_type": "stream",
     "text": [
      "Enter the desired length of the password:  5\n",
      "Include lowercase letters? (yes/no):  yes\n",
      "Include uppercase letters? (yes/no):  yes\n",
      "Include digits? (yes/no):  yes\n",
      "Include special characters? (yes/no):  yes\n"
     ]
    },
    {
     "name": "stdout",
     "output_type": "stream",
     "text": [
      "Generated Password: '>~#7\n"
     ]
    },
    {
     "name": "stdin",
     "output_type": "stream",
     "text": [
      "Generate another password? (yes/no):  no\n"
     ]
    }
   ],
   "source": [
    "# 23. Develop a program that generates a random password based on user preferences (length, complexity).\n",
    "import random\n",
    "import string\n",
    "\n",
    "def generate_password(length, use_lowercase, use_uppercase, use_digits, use_special_chars):\n",
    "    characters = ''\n",
    "\n",
    "    if use_lowercase:\n",
    "        characters += string.ascii_lowercase\n",
    "    if use_uppercase:\n",
    "        characters += string.ascii_uppercase\n",
    "    if use_digits:\n",
    "        characters += string.digits\n",
    "    if use_special_chars:\n",
    "        characters += string.punctuation\n",
    "\n",
    "    if len(characters) == 0:\n",
    "        print(\"Error: Please select at least one character type.\")\n",
    "        return None\n",
    "\n",
    "    password = ''.join(random.choice(characters) for _ in range(length))\n",
    "    return password\n",
    "\n",
    "def main():\n",
    "    print(\"Welcome to the Random Password Generator!\")\n",
    "\n",
    "    while True:\n",
    "        length = int(input(\"Enter the desired length of the password: \"))\n",
    "        use_lowercase = input(\"Include lowercase letters? (yes/no): \").lower() == \"yes\"\n",
    "        use_uppercase = input(\"Include uppercase letters? (yes/no): \").lower() == \"yes\"\n",
    "        use_digits = input(\"Include digits? (yes/no): \").lower() == \"yes\"\n",
    "        use_special_chars = input(\"Include special characters? (yes/no): \").lower() == \"yes\"\n",
    "\n",
    "        password = generate_password(length, use_lowercase, use_uppercase, use_digits, use_special_chars)\n",
    "        \n",
    "        if password:\n",
    "            print(\"Generated Password:\", password)\n",
    "\n",
    "        play_again = input(\"Generate another password? (yes/no): \").lower()\n",
    "        if play_again != \"yes\":\n",
    "            break\n",
    "\n",
    "if __name__ == \"__main__\":\n",
    "    main()\n"
   ]
  },
  {
   "cell_type": "code",
   "execution_count": 6,
   "id": "32ba173f-1d5c-41a4-8bb2-ea25e12f80e2",
   "metadata": {},
   "outputs": [
    {
     "name": "stdout",
     "output_type": "stream",
     "text": [
      "Welcome to the Text Adventure Game!\n",
      "You find yourself at the entrance of a mysterious forest.\n",
      "Your goal is to find the hidden treasure.\n",
      "Be careful with your choices; your life may depend on it!\n",
      "\n",
      "You stand at a crossroads. Which path will you choose?\n",
      "1. Go left into a dark and ominous forest.\n",
      "2. Go right, following a well-trodden path.\n"
     ]
    },
    {
     "name": "stdin",
     "output_type": "stream",
     "text": [
      "Enter your choice (1/2):  2\n"
     ]
    },
    {
     "name": "stdout",
     "output_type": "stream",
     "text": [
      "\n",
      "You follow the well-trodden path.\n",
      "You arrive at a beautiful meadow with a sparkling stream.\n",
      "You notice a bridge crossing the stream.\n",
      "1. Cross the bridge.\n",
      "2. Explore the meadow.\n"
     ]
    },
    {
     "name": "stdin",
     "output_type": "stream",
     "text": [
      "Enter your choice (1/2):  1\n"
     ]
    },
    {
     "name": "stdout",
     "output_type": "stream",
     "text": [
      "\n",
      "As you cross the bridge, you discover a hidden treasure chest!\n",
      "Congratulations, you found the treasure!\n",
      "You are victorious!\n"
     ]
    }
   ],
   "source": [
    "# 24. Create a program that implements a simple text-based adventure game with branching scenarios.\n",
    "import time\n",
    "\n",
    "def introduction():\n",
    "    print(\"Welcome to the Text Adventure Game!\")\n",
    "    time.sleep(1)\n",
    "    print(\"You find yourself at the entrance of a mysterious forest.\")\n",
    "    time.sleep(1)\n",
    "    print(\"Your goal is to find the hidden treasure.\")\n",
    "    time.sleep(1)\n",
    "    print(\"Be careful with your choices; your life may depend on it!\\n\")\n",
    "\n",
    "def choose_path():\n",
    "    print(\"You stand at a crossroads. Which path will you choose?\")\n",
    "    print(\"1. Go left into a dark and ominous forest.\")\n",
    "    print(\"2. Go right, following a well-trodden path.\")\n",
    "    choice = input(\"Enter your choice (1/2): \")\n",
    "\n",
    "    if choice == '1':\n",
    "        dark_forest()\n",
    "    elif choice == '2':\n",
    "        well_trodden_path()\n",
    "    else:\n",
    "        print(\"Invalid choice. Try again.\")\n",
    "        choose_path()\n",
    "\n",
    "def dark_forest():\n",
    "    print(\"\\nYou enter the dark forest. It's eerily quiet.\")\n",
    "    time.sleep(1)\n",
    "    print(\"You come across a fork in the road.\")\n",
    "    print(\"1. Go deeper into the forest.\")\n",
    "    print(\"2. Turn back to the crossroads.\")\n",
    "    choice = input(\"Enter your choice (1/2): \")\n",
    "\n",
    "    if choice == '1':\n",
    "        print(\"\\nAs you venture deeper into the forest, you suddenly hear growling.\")\n",
    "        time.sleep(1)\n",
    "        print(\"A hungry bear appears and chases you!\")\n",
    "        time.sleep(1)\n",
    "        print(\"You are caught and have no way to escape.\")\n",
    "        game_over()\n",
    "    elif choice == '2':\n",
    "        choose_path()\n",
    "    else:\n",
    "        print(\"Invalid choice. Try again.\")\n",
    "        dark_forest()\n",
    "\n",
    "def well_trodden_path():\n",
    "    print(\"\\nYou follow the well-trodden path.\")\n",
    "    time.sleep(1)\n",
    "    print(\"You arrive at a beautiful meadow with a sparkling stream.\")\n",
    "    time.sleep(1)\n",
    "    print(\"You notice a bridge crossing the stream.\")\n",
    "    print(\"1. Cross the bridge.\")\n",
    "    print(\"2. Explore the meadow.\")\n",
    "    choice = input(\"Enter your choice (1/2): \")\n",
    "\n",
    "    if choice == '1':\n",
    "        print(\"\\nAs you cross the bridge, you discover a hidden treasure chest!\")\n",
    "        time.sleep(1)\n",
    "        print(\"Congratulations, you found the treasure!\")\n",
    "        time.sleep(1)\n",
    "        print(\"You are victorious!\")\n",
    "    elif choice == '2':\n",
    "        print(\"\\nYou explore the meadow but find nothing of interest.\")\n",
    "        time.sleep(1)\n",
    "        print(\"Feeling disappointed, you return to the bridge.\")\n",
    "        well_trodden_path()\n",
    "    else:\n",
    "        print(\"Invalid choice. Try again.\")\n",
    "        well_trodden_path()\n",
    "\n",
    "def game_over():\n",
    "    print(\"\\nGame Over! Would you like to play again?\")\n",
    "    play_again = input(\"Enter 'yes' to play again, or 'no' to quit: \").lower()\n",
    "    if play_again == 'yes':\n",
    "        start_game()\n",
    "    else:\n",
    "        print(\"Thanks for playing! Goodbye.\")\n",
    "\n",
    "def start_game():\n",
    "    introduction()\n",
    "    choose_path()\n",
    "\n",
    "if __name__ == \"__main__\":\n",
    "    start_game()\n"
   ]
  },
  {
   "cell_type": "code",
   "execution_count": 8,
   "id": "089a9b8a-3ceb-4d1e-a0e4-843a4f06ee90",
   "metadata": {},
   "outputs": [
    {
     "name": "stdout",
     "output_type": "stream",
     "text": [
      "Linear Equation Solver (ax + b = 0)\n"
     ]
    },
    {
     "name": "stdin",
     "output_type": "stream",
     "text": [
      "Enter the coefficient 'a':  1\n",
      "Enter the constant 'b':  5\n"
     ]
    },
    {
     "name": "stdout",
     "output_type": "stream",
     "text": [
      "Solution: x = -5.0\n"
     ]
    }
   ],
   "source": [
    "# 25. Build a program that solves a linear equation for x, considering different cases.\n",
    "def solve_linear_equation(a, b):\n",
    "    if a == 0:\n",
    "        if b == 0:\n",
    "            return \"Infinite solutions (any value of x)\"\n",
    "        else:\n",
    "            return \"No solution (contradiction)\"\n",
    "    else:\n",
    "        x = -b / a\n",
    "        return f\"Solution: x = {x}\"\n",
    "\n",
    "def main():\n",
    "    print(\"Linear Equation Solver (ax + b = 0)\")\n",
    "    try:\n",
    "        a = float(input(\"Enter the coefficient 'a': \"))\n",
    "        b = float(input(\"Enter the constant 'b': \"))\n",
    "        solution = solve_linear_equation(a, b)\n",
    "        print(solution)\n",
    "    except ValueError:\n",
    "        print(\"Invalid input. Please enter valid numeric coefficients.\")\n",
    "\n",
    "if __name__ == \"__main__\":\n",
    "    main()\n"
   ]
  },
  {
   "cell_type": "code",
   "execution_count": 10,
   "id": "d8df40c1-7f97-4b48-9b9e-0be0ea5bd8bc",
   "metadata": {},
   "outputs": [
    {
     "name": "stdout",
     "output_type": "stream",
     "text": [
      "What is the capital of France?\n",
      "1. London\n",
      "2. Berlin\n",
      "3. Paris\n",
      "4. Madrid\n"
     ]
    },
    {
     "name": "stdin",
     "output_type": "stream",
     "text": [
      "Enter the number of your answer:  3\n"
     ]
    },
    {
     "name": "stdout",
     "output_type": "stream",
     "text": [
      "Correct!\n",
      "\n",
      "Which planet is known as the Red Planet?\n",
      "1. Earth\n",
      "2. Mars\n",
      "3. Venus\n",
      "4. Jupiter\n"
     ]
    },
    {
     "name": "stdin",
     "output_type": "stream",
     "text": [
      "Enter the number of your answer:  2\n"
     ]
    },
    {
     "name": "stdout",
     "output_type": "stream",
     "text": [
      "Correct!\n",
      "\n",
      "What is 2 + 2?\n",
      "1. 3\n",
      "2. 4\n",
      "3. 5\n",
      "4. 6\n"
     ]
    },
    {
     "name": "stdin",
     "output_type": "stream",
     "text": [
      "Enter the number of your answer:  2\n"
     ]
    },
    {
     "name": "stdout",
     "output_type": "stream",
     "text": [
      "Correct!\n",
      "\n",
      "Quiz completed. Your score: 3/3\n"
     ]
    }
   ],
   "source": [
    "# 26. Write a program that simulates a basic quiz game with multiple-choice questions and scoring.\n",
    "class Quiz:\n",
    "    def __init__(self, questions):\n",
    "        self.questions = questions\n",
    "        self.score = 0\n",
    "\n",
    "    def display_question(self, question):\n",
    "        print(question[\"text\"])\n",
    "        for i, choice in enumerate(question[\"choices\"], start=1):\n",
    "            print(f\"{i}. {choice}\")\n",
    "\n",
    "    def take_quiz(self):\n",
    "        for question in self.questions:\n",
    "            self.display_question(question)\n",
    "            user_answer = input(\"Enter the number of your answer: \")\n",
    "            correct_answer = question[\"answer\"]\n",
    "            if user_answer.isdigit() and 1 <= int(user_answer) <= len(question[\"choices\"]):\n",
    "                user_choice = question[\"choices\"][int(user_answer) - 1]\n",
    "                if user_choice == correct_answer:\n",
    "                    print(\"Correct!\\n\")\n",
    "                    self.score += 1\n",
    "                else:\n",
    "                    print(f\"Wrong! The correct answer is: {correct_answer}\\n\")\n",
    "            else:\n",
    "                print(\"Invalid input. Please enter a valid choice.\\n\")\n",
    "        print(f\"Quiz completed. Your score: {self.score}/{len(self.questions)}\")\n",
    "\n",
    "if __name__ == \"__main__\":\n",
    "    questions = [\n",
    "        {\n",
    "            \"text\": \"What is the capital of France?\",\n",
    "            \"choices\": [\"London\", \"Berlin\", \"Paris\", \"Madrid\"],\n",
    "            \"answer\": \"Paris\"\n",
    "        },\n",
    "        {\n",
    "            \"text\": \"Which planet is known as the Red Planet?\",\n",
    "            \"choices\": [\"Earth\", \"Mars\", \"Venus\", \"Jupiter\"],\n",
    "            \"answer\": \"Mars\"\n",
    "        },\n",
    "        {\n",
    "            \"text\": \"What is 2 + 2?\",\n",
    "            \"choices\": [\"3\", \"4\", \"5\", \"6\"],\n",
    "            \"answer\": \"4\"\n",
    "        }\n",
    "    ]\n",
    "\n",
    "    quiz = Quiz(questions)\n",
    "    quiz.take_quiz()\n",
    "\n"
   ]
  },
  {
   "cell_type": "code",
   "execution_count": 11,
   "id": "650483b0-015e-4aef-88d3-47e46da45dd4",
   "metadata": {},
   "outputs": [
    {
     "name": "stdin",
     "output_type": "stream",
     "text": [
      "Enter a year:  2017\n"
     ]
    },
    {
     "name": "stdout",
     "output_type": "stream",
     "text": [
      "2017 is a prime year.\n"
     ]
    }
   ],
   "source": [
    "# 27. Develop a program that determines whether a given year is a prime number or not.\n",
    "def is_prime(year):\n",
    "    if year <= 1:\n",
    "        return False\n",
    "    elif year == 2:\n",
    "        return True\n",
    "    elif year % 2 == 0:\n",
    "        return False\n",
    "    else:\n",
    "        for i in range(3, int(year**0.5) + 1, 2):\n",
    "            if year % i == 0:\n",
    "                return False\n",
    "        return True\n",
    "\n",
    "def main():\n",
    "    try:\n",
    "        year = int(input(\"Enter a year: \"))\n",
    "        if is_prime(year):\n",
    "            print(f\"{year} is a prime year.\")\n",
    "        else:\n",
    "            print(f\"{year} is not a prime year.\")\n",
    "    except ValueError:\n",
    "        print(\"Invalid input. Please enter a valid year.\")\n",
    "\n",
    "if __name__ == \"__main__\":\n",
    "    main()\n"
   ]
  },
  {
   "cell_type": "code",
   "execution_count": 13,
   "id": "d03fa0db-7736-478c-8d26-e9f1f2f7cfac",
   "metadata": {},
   "outputs": [
    {
     "name": "stdin",
     "output_type": "stream",
     "text": [
      "Enter the first number:  14\n",
      "Enter the second number:  55\n",
      "Enter the third number:  31\n"
     ]
    },
    {
     "name": "stdout",
     "output_type": "stream",
     "text": [
      "Sorted numbers: (14.0, 31.0, 55.0)\n"
     ]
    }
   ],
   "source": [
    "# 28. Create a program that sorts three numbers in ascending order using conditional statements.\n",
    "def sort_numbers(a, b, c):\n",
    "    if a <= b and a <= c:\n",
    "        if b <= c:\n",
    "            return a, b, c\n",
    "        else:\n",
    "            return a, c, b\n",
    "    elif b <= a and b <= c:\n",
    "        if a <= c:\n",
    "            return b, a, c\n",
    "        else:\n",
    "            return b, c, a\n",
    "    else:\n",
    "        if a <= b:\n",
    "            return c, a, b\n",
    "        else:\n",
    "            return c, b, a\n",
    "\n",
    "def main():\n",
    "    try:\n",
    "        a = float(input(\"Enter the first number: \"))\n",
    "        b = float(input(\"Enter the second number: \"))\n",
    "        c = float(input(\"Enter the third number: \"))\n",
    "        \n",
    "        sorted_numbers = sort_numbers(a, b, c)\n",
    "        print(\"Sorted numbers:\", sorted_numbers)\n",
    "    except ValueError:\n",
    "        print(\"Invalid input. Please enter valid numeric values.\")\n",
    "\n",
    "if __name__ == \"__main__\":\n",
    "    main()\n"
   ]
  },
  {
   "cell_type": "code",
   "execution_count": 14,
   "id": "5c034dc5-8a4c-4752-bbf3-9c407151ecdc",
   "metadata": {},
   "outputs": [
    {
     "name": "stdout",
     "output_type": "stream",
     "text": [
      "Quartic Equation Solver\n",
      "Enter coefficients for the quartic equation ax^4 + bx^3 + cx^2 + dx + e = 0:\n"
     ]
    },
    {
     "name": "stdin",
     "output_type": "stream",
     "text": [
      "Enter coefficient for x^4:  5\n",
      "Enter coefficient for x^3:  3\n",
      "Enter coefficient for x^2:  6\n",
      "Enter coefficient for x^1:  2\n",
      "Enter coefficient for x^0:  1\n",
      "Enter initial guess for root 1:  3\n",
      "Enter initial guess for root 2:  5\n",
      "Enter initial guess for root 3:  6\n",
      "Enter initial guess for root 4:  7\n"
     ]
    },
    {
     "name": "stdout",
     "output_type": "stream",
     "text": [
      "No real roots found within the given tolerance.\n"
     ]
    }
   ],
   "source": [
    "# 29. Build a program that determines the roots of a quartic equation using numerical methods.\n",
    "import sympy as sp\n",
    "\n",
    "def newton_raphson_quartic(coefficients, initial_guesses, max_iterations=1000, tolerance=1e-6):\n",
    "    x = sp.symbols('x')\n",
    "    f = sum(coeff * x ** i for i, coeff in enumerate(coefficients[::-1]))\n",
    "    f_prime = sp.diff(f, x)\n",
    "    \n",
    "    roots = []\n",
    "    \n",
    "    for initial_guess in initial_guesses:\n",
    "        x_n = initial_guess\n",
    "        for _ in range(max_iterations):\n",
    "            f_value = f.subs(x, x_n)\n",
    "            f_prime_value = f_prime.subs(x, x_n)\n",
    "            \n",
    "            if abs(f_value) < tolerance:\n",
    "                roots.append(float(x_n))\n",
    "                break\n",
    "            \n",
    "            x_n = x_n - f_value / f_prime_value\n",
    "    \n",
    "    return roots\n",
    "\n",
    "def main():\n",
    "    print(\"Quartic Equation Solver\")\n",
    "    print(\"Enter coefficients for the quartic equation ax^4 + bx^3 + cx^2 + dx + e = 0:\")\n",
    "    \n",
    "    coefficients = [float(input(f\"Enter coefficient for x^{4-i}: \")) for i in range(5)]\n",
    "    \n",
    "    initial_guesses = [float(input(f\"Enter initial guess for root {i+1}: \")) for i in range(4)]\n",
    "    \n",
    "    roots = newton_raphson_quartic(coefficients, initial_guesses)\n",
    "    \n",
    "    if not roots:\n",
    "        print(\"No real roots found within the given tolerance.\")\n",
    "    else:\n",
    "        print(\"Real roots:\")\n",
    "        for i, root in enumerate(roots, 1):\n",
    "            print(f\"Root {i}: {root}\")\n",
    "\n",
    "if __name__ == \"__main__\":\n",
    "    main()\n"
   ]
  },
  {
   "cell_type": "code",
   "execution_count": 15,
   "id": "325c36d9-28f8-4c31-9c13-cecdc29060d3",
   "metadata": {},
   "outputs": [
    {
     "name": "stdout",
     "output_type": "stream",
     "text": [
      "BMI Calculator and Health Recommendations\n",
      "Enter your weight (in kilograms) and height (in meters):\n"
     ]
    },
    {
     "name": "stdin",
     "output_type": "stream",
     "text": [
      "Weight (kg):  55\n",
      "Height (m):  1.5\n"
     ]
    },
    {
     "name": "stdout",
     "output_type": "stream",
     "text": [
      "Your BMI is 24.44 (Normal weight).\n",
      "Recommendations: Your weight is in the normal range. Maintain a healthy lifestyle.\n"
     ]
    }
   ],
   "source": [
    "# 30. Write a program that calculates the BMI (Body Mass Index) and provides health recommendations based on the user's input.\n",
    "def calculate_bmi(weight_kg, height_m):\n",
    "    return weight_kg / (height_m ** 2)\n",
    "\n",
    "def interpret_bmi(bmi):\n",
    "    if bmi < 18.5:\n",
    "        return \"Underweight\"\n",
    "    elif 18.5 <= bmi < 24.9:\n",
    "        return \"Normal weight\"\n",
    "    elif 24.9 <= bmi < 29.9:\n",
    "        return \"Overweight\"\n",
    "    else:\n",
    "        return \"Obese\"\n",
    "\n",
    "def main():\n",
    "    print(\"BMI Calculator and Health Recommendations\")\n",
    "    print(\"Enter your weight (in kilograms) and height (in meters):\")\n",
    "    \n",
    "    try:\n",
    "        weight_kg = float(input(\"Weight (kg): \"))\n",
    "        height_m = float(input(\"Height (m): \"))\n",
    "        \n",
    "        if weight_kg <= 0 or height_m <= 0:\n",
    "            print(\"Invalid input. Weight and height must be positive values.\")\n",
    "            return\n",
    "        \n",
    "        bmi = calculate_bmi(weight_kg, height_m)\n",
    "        print(f\"Your BMI is {bmi:.2f} ({interpret_bmi(bmi)}).\")\n",
    "\n",
    "        if bmi < 18.5:\n",
    "            print(\"Recommendations: You are underweight. Consider consulting a healthcare professional.\")\n",
    "        elif 18.5 <= bmi < 24.9:\n",
    "            print(\"Recommendations: Your weight is in the normal range. Maintain a healthy lifestyle.\")\n",
    "        elif 24.9 <= bmi < 29.9:\n",
    "            print(\"Recommendations: You are overweight. Consider adopting a balanced diet and exercising regularly.\")\n",
    "        else:\n",
    "            print(\"Recommendations: You are obese. It is important to consult a healthcare professional and make lifestyle changes.\")\n",
    "    \n",
    "    except ValueError:\n",
    "        print(\"Invalid input. Please enter valid numeric values.\")\n",
    "\n",
    "if __name__ == \"__main__\":\n",
    "    main()\n"
   ]
  },
  {
   "cell_type": "code",
   "execution_count": 16,
   "id": "9e7cca22-e6fc-4ee8-ba56-594528c89ca0",
   "metadata": {},
   "outputs": [
    {
     "name": "stdout",
     "output_type": "stream",
     "text": [
      "Password Validator\n"
     ]
    },
    {
     "name": "stdin",
     "output_type": "stream",
     "text": [
      "Enter your password:  aman1234\n"
     ]
    },
    {
     "name": "stdout",
     "output_type": "stream",
     "text": [
      "Password is invalid. Please follow the complexity rules.\n"
     ]
    }
   ],
   "source": [
    "# 31. Create a program that validates a password based on complexity rules (length, characters, etc.).\n",
    "import re\n",
    "\n",
    "def is_valid_password(password):\n",
    "    # Check length (at least 8 characters)\n",
    "    if len(password) < 8:\n",
    "        return False\n",
    "\n",
    "    # Check for at least one uppercase letter, one lowercase letter, and one digit\n",
    "    if not (re.search(r'[A-Z]', password) and\n",
    "            re.search(r'[a-z]', password) and\n",
    "            re.search(r'[0-9]', password)):\n",
    "        return False\n",
    "\n",
    "    # Check for at least one special character (e.g., @, #, $, etc.)\n",
    "    if not re.search(r'[!@#$%^&*()_+{}[\\]:;<>,.?~\\\\-]', password):\n",
    "        return False\n",
    "\n",
    "    # Check for no spaces\n",
    "    if ' ' in password:\n",
    "        return False\n",
    "\n",
    "    # Password meets all criteria\n",
    "    return True\n",
    "\n",
    "def main():\n",
    "    print(\"Password Validator\")\n",
    "    password = input(\"Enter your password: \")\n",
    "\n",
    "    if is_valid_password(password):\n",
    "        print(\"Password is valid!\")\n",
    "    else:\n",
    "        print(\"Password is invalid. Please follow the complexity rules.\")\n",
    "\n",
    "if __name__ == \"__main__\":\n",
    "    main()\n"
   ]
  },
  {
   "cell_type": "code",
   "execution_count": 18,
   "id": "329a60e7-ea35-42a9-8353-b3afafd4d56d",
   "metadata": {},
   "outputs": [
    {
     "name": "stdout",
     "output_type": "stream",
     "text": [
      "Matrix Addition and Subtraction\n"
     ]
    },
    {
     "name": "stdin",
     "output_type": "stream",
     "text": [
      "Enter the number of rows:  5\n",
      "Enter the number of columns:  5\n"
     ]
    },
    {
     "name": "stdout",
     "output_type": "stream",
     "text": [
      "Matrix A:\n",
      "Enter the 5x5 matrix:\n"
     ]
    },
    {
     "name": "stdin",
     "output_type": "stream",
     "text": [
      "Enter element at position (1, 1):  1\n",
      "Enter element at position (1, 2):  2\n",
      "Enter element at position (1, 3):  3\n",
      "Enter element at position (1, 4):  4\n",
      "Enter element at position (1, 5):  5\n",
      "Enter element at position (2, 1):  1\n",
      "Enter element at position (2, 2):  2\n",
      "Enter element at position (2, 3):  3\n",
      "Enter element at position (2, 4):  4\n",
      "Enter element at position (2, 5):  5\n",
      "Enter element at position (3, 1):  1\n",
      "Enter element at position (3, 2):  2\n",
      "Enter element at position (3, 3):  3\n",
      "Enter element at position (3, 4):  4\n",
      "Enter element at position (3, 5):  5\n",
      "Enter element at position (4, 1):  6\n",
      "Enter element at position (4, 2):  7\n",
      "Enter element at position (4, 3):  8\n",
      "Enter element at position (4, 4):  9\n",
      "Enter element at position (4, 5):  3\n",
      "Enter element at position (5, 1):  4\n",
      "Enter element at position (5, 2):  5\n",
      "Enter element at position (5, 3):  6\n",
      "Enter element at position (5, 4):  7\n",
      "Enter element at position (5, 5):  45\n"
     ]
    },
    {
     "name": "stdout",
     "output_type": "stream",
     "text": [
      "Matrix B:\n",
      "Enter the 5x5 matrix:\n"
     ]
    },
    {
     "name": "stdin",
     "output_type": "stream",
     "text": [
      "Enter element at position (1, 1):  1\n",
      "Enter element at position (1, 2):  2\n",
      "Enter element at position (1, 3):  3\n",
      "Enter element at position (1, 4):  4\n",
      "Enter element at position (1, 5):  5\n",
      "Enter element at position (2, 1):  6\n",
      "Enter element at position (2, 2):  7\n",
      "Enter element at position (2, 3):  8\n",
      "Enter element at position (2, 4):  5\n",
      "Enter element at position (2, 5):  4\n",
      "Enter element at position (3, 1):  5\n",
      "Enter element at position (3, 2):  6\n",
      "Enter element at position (3, 3):  7\n",
      "Enter element at position (3, 4):  4\n",
      "Enter element at position (3, 5):  5\n",
      "Enter element at position (4, 1):  3\n",
      "Enter element at position (4, 2):  2\n",
      "Enter element at position (4, 3):  4\n",
      "Enter element at position (4, 4):  5\n",
      "Enter element at position (4, 5):  4\n",
      "Enter element at position (5, 1):  4\n",
      "Enter element at position (5, 2):  5\n",
      "Enter element at position (5, 3):  3\n",
      "Enter element at position (5, 4):  7\n",
      "Enter element at position (5, 5):  5\n"
     ]
    },
    {
     "name": "stdout",
     "output_type": "stream",
     "text": [
      "\n",
      "Matrix A:\n",
      "[1.0, 2.0, 3.0, 4.0, 5.0]\n",
      "[1.0, 2.0, 3.0, 4.0, 5.0]\n",
      "[1.0, 2.0, 3.0, 4.0, 5.0]\n",
      "[6.0, 7.0, 8.0, 9.0, 3.0]\n",
      "[4.0, 5.0, 6.0, 7.0, 45.0]\n",
      "\n",
      "Matrix B:\n",
      "[1.0, 2.0, 3.0, 4.0, 5.0]\n",
      "[6.0, 7.0, 8.0, 5.0, 4.0]\n",
      "[5.0, 6.0, 7.0, 4.0, 5.0]\n",
      "[3.0, 2.0, 4.0, 5.0, 4.0]\n",
      "[4.0, 5.0, 3.0, 7.0, 5.0]\n",
      "\n",
      "Matrix A + Matrix B:\n",
      "[2.0, 4.0, 6.0, 8.0, 10.0]\n",
      "[7.0, 9.0, 11.0, 9.0, 9.0]\n",
      "[6.0, 8.0, 10.0, 8.0, 10.0]\n",
      "[9.0, 9.0, 12.0, 14.0, 7.0]\n",
      "[8.0, 10.0, 9.0, 14.0, 50.0]\n",
      "\n",
      "Matrix A - Matrix B:\n",
      "[0.0, 0.0, 0.0, 0.0, 0.0]\n",
      "[-5.0, -5.0, -5.0, -1.0, 1.0]\n",
      "[-4.0, -4.0, -4.0, 0.0, 0.0]\n",
      "[3.0, 5.0, 4.0, 4.0, -1.0]\n",
      "[0.0, 0.0, 3.0, 0.0, 40.0]\n"
     ]
    }
   ],
   "source": [
    "# 32. Develop a program that performs matrix addition and subtraction based on user input.\n",
    "def input_matrix(rows, cols):\n",
    "    matrix = []\n",
    "    print(f\"Enter the {rows}x{cols} matrix:\")\n",
    "\n",
    "    for i in range(rows):\n",
    "        row = []\n",
    "        for j in range(cols):\n",
    "            element = float(input(f\"Enter element at position ({i+1}, {j+1}): \"))\n",
    "            row.append(element)\n",
    "        matrix.append(row)\n",
    "\n",
    "    return matrix\n",
    "\n",
    "def matrix_addition(matrix1, matrix2):\n",
    "    result = []\n",
    "    if len(matrix1) != len(matrix2) or len(matrix1[0]) != len(matrix2[0]):\n",
    "        print(\"Matrix addition is not possible. Matrices must have the same dimensions.\")\n",
    "        return None\n",
    "\n",
    "    for i in range(len(matrix1)):\n",
    "        row = []\n",
    "        for j in range(len(matrix1[0])):\n",
    "            row.append(matrix1[i][j] + matrix2[i][j])\n",
    "        result.append(row)\n",
    "\n",
    "    return result\n",
    "\n",
    "def matrix_subtraction(matrix1, matrix2):\n",
    "    result = []\n",
    "    if len(matrix1) != len(matrix2) or len(matrix1[0]) != len(matrix2[0]):\n",
    "        print(\"Matrix subtraction is not possible. Matrices must have the same dimensions.\")\n",
    "        return None\n",
    "\n",
    "    for i in range(len(matrix1)):\n",
    "        row = []\n",
    "        for j in range(len(matrix1[0])):\n",
    "            row.append(matrix1[i][j] - matrix2[i][j])\n",
    "        result.append(row)\n",
    "\n",
    "    return result\n",
    "\n",
    "def print_matrix(matrix):\n",
    "    for row in matrix:\n",
    "        print(row)\n",
    "\n",
    "def main():\n",
    "    print(\"Matrix Addition and Subtraction\")\n",
    "    rows = int(input(\"Enter the number of rows: \"))\n",
    "    cols = int(input(\"Enter the number of columns: \"))\n",
    "\n",
    "    print(\"Matrix A:\")\n",
    "    matrix_a = input_matrix(rows, cols)\n",
    "\n",
    "    print(\"Matrix B:\")\n",
    "    matrix_b = input_matrix(rows, cols)\n",
    "\n",
    "    print(\"\\nMatrix A:\")\n",
    "    print_matrix(matrix_a)\n",
    "    print(\"\\nMatrix B:\")\n",
    "    print_matrix(matrix_b)\n",
    "\n",
    "    add_result = matrix_addition(matrix_a, matrix_b)\n",
    "    sub_result = matrix_subtraction(matrix_a, matrix_b)\n",
    "\n",
    "    if add_result:\n",
    "        print(\"\\nMatrix A + Matrix B:\")\n",
    "        print_matrix(add_result)\n",
    "\n",
    "    if sub_result:\n",
    "        print(\"\\nMatrix A - Matrix B:\")\n",
    "        print_matrix(sub_result)\n",
    "\n",
    "if __name__ == \"__main__\":\n",
    "    main()\n"
   ]
  },
  {
   "cell_type": "code",
   "execution_count": 19,
   "id": "809eee19-9a43-4a24-a518-5172940c5a29",
   "metadata": {},
   "outputs": [
    {
     "name": "stdout",
     "output_type": "stream",
     "text": [
      "GCD Calculator using Euclidean Algorithm\n"
     ]
    },
    {
     "name": "stdin",
     "output_type": "stream",
     "text": [
      "Enter the first number:  6\n",
      "Enter the second number:  4\n"
     ]
    },
    {
     "name": "stdout",
     "output_type": "stream",
     "text": [
      "The GCD of 6 and 4 is 2\n"
     ]
    }
   ],
   "source": [
    "# 33. Write a program that calculates the greatest common divisor (GCD) of two numbers using the Euclidean algorithm.\n",
    "def gcd_euclidean(a, b):\n",
    "    while b:\n",
    "        a, b = b, a % b\n",
    "    return a\n",
    "\n",
    "def main():\n",
    "    print(\"GCD Calculator using Euclidean Algorithm\")\n",
    "    try:\n",
    "        num1 = int(input(\"Enter the first number: \"))\n",
    "        num2 = int(input(\"Enter the second number: \"))\n",
    "\n",
    "        if num1 < 0 or num2 < 0:\n",
    "            print(\"Please enter positive integers.\")\n",
    "        else:\n",
    "            gcd = gcd_euclidean(num1, num2)\n",
    "            print(f\"The GCD of {num1} and {num2} is {gcd}\")\n",
    "    except ValueError:\n",
    "        print(\"Invalid input. Please enter valid integers.\")\n",
    "\n",
    "if __name__ == \"__main__\":\n",
    "    main()\n"
   ]
  },
  {
   "cell_type": "code",
   "execution_count": 23,
   "id": "e9e0e10a-6beb-441f-b1fe-3bf8a75ea28b",
   "metadata": {},
   "outputs": [
    {
     "name": "stdout",
     "output_type": "stream",
     "text": [
      "Matrix Multiplication\n"
     ]
    },
    {
     "name": "stdin",
     "output_type": "stream",
     "text": [
      "Enter the number of rows for Matrix A:  1\n",
      "Enter the number of columns for Matrix A:  1\n",
      "Enter the number of rows for Matrix B:  1\n",
      "Enter the number of columns for Matrix B:  1\n"
     ]
    },
    {
     "name": "stdout",
     "output_type": "stream",
     "text": [
      "Matrix A:\n",
      "Enter the 1x1 matrix:\n"
     ]
    },
    {
     "name": "stdin",
     "output_type": "stream",
     "text": [
      "Enter element at position (1, 1):  2\n"
     ]
    },
    {
     "name": "stdout",
     "output_type": "stream",
     "text": [
      "Matrix B:\n",
      "Enter the 1x1 matrix:\n"
     ]
    },
    {
     "name": "stdin",
     "output_type": "stream",
     "text": [
      "Enter element at position (1, 1):  3\n"
     ]
    },
    {
     "name": "stdout",
     "output_type": "stream",
     "text": [
      "\n",
      "Matrix A:\n",
      "[2.0]\n",
      "\n",
      "Matrix B:\n",
      "[3.0]\n",
      "\n",
      "Matrix A * Matrix B:\n",
      "[6.0]\n"
     ]
    }
   ],
   "source": [
    "# 34. Build a program that performs matrix multiplication using nested loops and conditional statements.\n",
    "def input_matrix(rows, cols):\n",
    "    matrix = []\n",
    "    print(f\"Enter the {rows}x{cols} matrix:\")\n",
    "\n",
    "    for i in range(rows):\n",
    "        row = []\n",
    "        for j in range(cols):\n",
    "            element = float(input(f\"Enter element at position ({i+1}, {j+1}): \"))\n",
    "            row.append(element)\n",
    "        matrix.append(row)\n",
    "\n",
    "    return matrix\n",
    "\n",
    "def matrix_multiplication(matrix1, matrix2):\n",
    "    if len(matrix1[0]) != len(matrix2):\n",
    "        print(\"Matrix multiplication is not possible. The number of columns in Matrix A must be equal to the number of rows in Matrix B.\")\n",
    "        return None\n",
    "\n",
    "    result = []\n",
    "    for i in range(len(matrix1)):\n",
    "        row = []\n",
    "        for j in range(len(matrix2[0])):\n",
    "            element = 0\n",
    "            for k in range(len(matrix2)):\n",
    "                element += matrix1[i][k] * matrix2[k][j]\n",
    "            row.append(element)\n",
    "        result.append(row)\n",
    "\n",
    "    return result\n",
    "\n",
    "def print_matrix(matrix):\n",
    "    for row in matrix:\n",
    "        print(row)\n",
    "\n",
    "def main():\n",
    "    print(\"Matrix Multiplication\")\n",
    "    rows1 = int(input(\"Enter the number of rows for Matrix A: \"))\n",
    "    cols1 = int(input(\"Enter the number of columns for Matrix A: \"))\n",
    "    \n",
    "    rows2 = int(input(\"Enter the number of rows for Matrix B: \"))\n",
    "    cols2 = int(input(\"Enter the number of columns for Matrix B: \"))\n",
    "\n",
    "    if cols1 != rows2:\n",
    "        print(\"Matrix multiplication is not possible. The number of columns in Matrix A must be equal to the number of rows in Matrix B.\")\n",
    "        return\n",
    "\n",
    "    print(\"Matrix A:\")\n",
    "    matrix_a = input_matrix(rows1, cols1)\n",
    "\n",
    "    print(\"Matrix B:\")\n",
    "    matrix_b = input_matrix(rows2, cols2)\n",
    "\n",
    "    print(\"\\nMatrix A:\")\n",
    "    print_matrix(matrix_a)\n",
    "    print(\"\\nMatrix B:\")\n",
    "    print_matrix(matrix_b)\n",
    "\n",
    "    product = matrix_multiplication(matrix_a, matrix_b)\n",
    "\n",
    "    if product:\n",
    "        print(\"\\nMatrix A * Matrix B:\")\n",
    "        print_matrix(product)\n",
    "\n",
    "if __name__ == \"__main__\":\n",
    "    main()\n"
   ]
  },
  {
   "cell_type": "code",
   "execution_count": 24,
   "id": "fb4c2085-5889-44ef-903d-ea90a05e676f",
   "metadata": {},
   "outputs": [
    {
     "name": "stdout",
     "output_type": "stream",
     "text": [
      "Welcome to Tic-Tac-Toe!\n",
      "  |   |  \n",
      "---------\n",
      "  |   |  \n",
      "---------\n",
      "  |   |  \n",
      "---------\n",
      "Your turn (Enter row and column, e.g., 1 2):\n"
     ]
    },
    {
     "name": "stdin",
     "output_type": "stream",
     "text": [
      " 1\n"
     ]
    },
    {
     "name": "stdout",
     "output_type": "stream",
     "text": [
      "Invalid input. Enter row and column (e.g., 1 2):\n"
     ]
    },
    {
     "name": "stdin",
     "output_type": "stream",
     "text": [
      " 12\n"
     ]
    },
    {
     "name": "stdout",
     "output_type": "stream",
     "text": [
      "Invalid input. Enter row and column (e.g., 1 2):\n"
     ]
    },
    {
     "name": "stdin",
     "output_type": "stream",
     "text": [
      " 2\n"
     ]
    },
    {
     "name": "stdout",
     "output_type": "stream",
     "text": [
      "Invalid input. Enter row and column (e.g., 1 2):\n"
     ]
    },
    {
     "name": "stdin",
     "output_type": "stream",
     "text": [
      " 1 2\n"
     ]
    },
    {
     "name": "stdout",
     "output_type": "stream",
     "text": [
      "  | X |  \n",
      "---------\n",
      "  |   |  \n",
      "---------\n",
      "  |   |  \n",
      "---------\n",
      "Your turn (Enter row and column, e.g., 1 2):\n"
     ]
    },
    {
     "name": "stdin",
     "output_type": "stream",
     "text": [
      " 1 2\n"
     ]
    },
    {
     "name": "stdout",
     "output_type": "stream",
     "text": [
      "Cell already occupied. Try again:\n"
     ]
    },
    {
     "name": "stdin",
     "output_type": "stream",
     "text": [
      " 1 3\n"
     ]
    },
    {
     "name": "stdout",
     "output_type": "stream",
     "text": [
      "  | X | O\n",
      "---------\n",
      "  |   |  \n",
      "---------\n",
      "  |   |  \n",
      "---------\n",
      "Your turn (Enter row and column, e.g., 1 2):\n"
     ]
    },
    {
     "name": "stdin",
     "output_type": "stream",
     "text": [
      " 2 2\n"
     ]
    },
    {
     "name": "stdout",
     "output_type": "stream",
     "text": [
      "  | X | O\n",
      "---------\n",
      "  | X |  \n",
      "---------\n",
      "  |   |  \n",
      "---------\n",
      "Your turn (Enter row and column, e.g., 1 2):\n"
     ]
    },
    {
     "name": "stdin",
     "output_type": "stream",
     "text": [
      " 3 2\n"
     ]
    },
    {
     "name": "stdout",
     "output_type": "stream",
     "text": [
      "  | X | O\n",
      "---------\n",
      "  | X |  \n",
      "---------\n",
      "  | O |  \n",
      "---------\n",
      "Your turn (Enter row and column, e.g., 1 2):\n"
     ]
    },
    {
     "name": "stdin",
     "output_type": "stream",
     "text": [
      " 2 1\n"
     ]
    },
    {
     "name": "stdout",
     "output_type": "stream",
     "text": [
      "  | X | O\n",
      "---------\n",
      "X | X |  \n",
      "---------\n",
      "  | O |  \n",
      "---------\n",
      "Your turn (Enter row and column, e.g., 1 2):\n"
     ]
    },
    {
     "name": "stdin",
     "output_type": "stream",
     "text": [
      " 3 1\n"
     ]
    },
    {
     "name": "stdout",
     "output_type": "stream",
     "text": [
      "  | X | O\n",
      "---------\n",
      "X | X |  \n",
      "---------\n",
      "O | O |  \n",
      "---------\n",
      "Your turn (Enter row and column, e.g., 1 2):\n"
     ]
    },
    {
     "name": "stdin",
     "output_type": "stream",
     "text": [
      " 2 3\n"
     ]
    },
    {
     "name": "stdout",
     "output_type": "stream",
     "text": [
      "  | X | O\n",
      "---------\n",
      "X | X | X\n",
      "---------\n",
      "O | O |  \n",
      "---------\n",
      "X wins! Congratulations!\n"
     ]
    }
   ],
   "source": [
    "# 35. Create a program that simulates a basic text-based tic-tac-toe game against the computer.\n",
    "import random\n",
    "\n",
    "def print_board(board):\n",
    "    for row in board:\n",
    "        print(\" | \".join(row))\n",
    "        print(\"-\" * 9)\n",
    "\n",
    "def check_winner(board, player):\n",
    "    for row in board:\n",
    "        if all(cell == player for cell in row):\n",
    "            return True\n",
    "\n",
    "    for col in range(3):\n",
    "        if all(board[row][col] == player for row in range(3)):\n",
    "            return True\n",
    "\n",
    "    if all(board[i][i] == player for i in range(3)) or all(board[i][2 - i] == player for i in range(3)):\n",
    "        return True\n",
    "\n",
    "    return False\n",
    "\n",
    "def is_board_full(board):\n",
    "    return all(cell != \" \" for row in board for cell in row)\n",
    "\n",
    "def computer_move(board, computer, player):\n",
    "    # Check for a winning move\n",
    "    for i in range(3):\n",
    "        for j in range(3):\n",
    "            if board[i][j] == \" \":\n",
    "                board[i][j] = computer\n",
    "                if check_winner(board, computer):\n",
    "                    return\n",
    "\n",
    "                # Undo the move\n",
    "                board[i][j] = \" \"\n",
    "\n",
    "    # Check for a blocking move\n",
    "    for i in range(3):\n",
    "        for j in range(3):\n",
    "            if board[i][j] == \" \":\n",
    "                board[i][j] = player\n",
    "                if check_winner(board, player):\n",
    "                    board[i][j] = computer\n",
    "                    return\n",
    "                board[i][j] = \" \"\n",
    "\n",
    "    # Choose a random empty cell\n",
    "    while True:\n",
    "        i, j = random.randint(0, 2), random.randint(0, 2)\n",
    "        if board[i][j] == \" \":\n",
    "            board[i][j] = computer\n",
    "            return\n",
    "\n",
    "def play_game():\n",
    "    board = [[\" \" for _ in range(3)] for _ in range(3)]\n",
    "    players = [\"X\", \"O\"]\n",
    "    computer = random.choice(players)\n",
    "    players.remove(computer)\n",
    "    player = players[0]\n",
    "\n",
    "    print(\"Welcome to Tic-Tac-Toe!\")\n",
    "    print_board(board)\n",
    "\n",
    "    while True:\n",
    "        if player == computer:\n",
    "            print(\"Computer's turn:\")\n",
    "            computer_move(board, computer, player)\n",
    "        else:\n",
    "            print(\"Your turn (Enter row and column, e.g., 1 2):\")\n",
    "            while True:\n",
    "                try:\n",
    "                    row, col = map(int, input().split())\n",
    "                    if board[row - 1][col - 1] == \" \":\n",
    "                        board[row - 1][col - 1] = player\n",
    "                        break\n",
    "                    else:\n",
    "                        print(\"Cell already occupied. Try again:\")\n",
    "                except (ValueError, IndexError):\n",
    "                    print(\"Invalid input. Enter row and column (e.g., 1 2):\")\n",
    "\n",
    "        print_board(board)\n",
    "        if check_winner(board, player):\n",
    "            print(f\"{player} wins! Congratulations!\")\n",
    "            break\n",
    "        elif is_board_full(board):\n",
    "            print(\"It's a tie!\")\n",
    "            break\n",
    "\n",
    "        player, computer = computer, player\n",
    "\n",
    "if __name__ == \"__main__\":\n",
    "    play_game()\n"
   ]
  },
  {
   "cell_type": "code",
   "execution_count": 25,
   "id": "15930a0f-8842-4c30-993e-0deeacf80823",
   "metadata": {},
   "outputs": [
    {
     "name": "stdout",
     "output_type": "stream",
     "text": [
      "Fibonacci Number Generator\n"
     ]
    },
    {
     "name": "stdin",
     "output_type": "stream",
     "text": [
      "Enter the number of terms to generate:  3\n"
     ]
    },
    {
     "name": "stdout",
     "output_type": "stream",
     "text": [
      "Fibonacci Sequence:\n",
      "[0, 1, 1]\n"
     ]
    }
   ],
   "source": [
    "# 36. Write a program that generates Fibonacci numbers up to a specified term using iterative methods.\n",
    "def generate_fibonacci(n):\n",
    "    fibonacci_sequence = [0, 1]\n",
    "\n",
    "    while len(fibonacci_sequence) < n:\n",
    "        next_number = fibonacci_sequence[-1] + fibonacci_sequence[-2]\n",
    "        fibonacci_sequence.append(next_number)\n",
    "\n",
    "    return fibonacci_sequence\n",
    "\n",
    "def main():\n",
    "    print(\"Fibonacci Number Generator\")\n",
    "    try:\n",
    "        n = int(input(\"Enter the number of terms to generate: \"))\n",
    "        if n <= 0:\n",
    "            print(\"Please enter a positive integer.\")\n",
    "            return\n",
    "\n",
    "        fibonacci_sequence = generate_fibonacci(n)\n",
    "        print(\"Fibonacci Sequence:\")\n",
    "        print(fibonacci_sequence)\n",
    "    except ValueError:\n",
    "        print(\"Invalid input. Please enter a valid integer.\")\n",
    "\n",
    "if __name__ == \"__main__\":\n",
    "    main()\n"
   ]
  },
  {
   "cell_type": "code",
   "execution_count": 26,
   "id": "74b6be77-a9af-4b83-834c-ef645d519b40",
   "metadata": {},
   "outputs": [
    {
     "name": "stdout",
     "output_type": "stream",
     "text": [
      "Fibonacci Number Calculator using Memoization\n"
     ]
    },
    {
     "name": "stdin",
     "output_type": "stream",
     "text": [
      "Enter the value of n:  4\n"
     ]
    },
    {
     "name": "stdout",
     "output_type": "stream",
     "text": [
      "The 4th Fibonacci number is 3\n"
     ]
    }
   ],
   "source": [
    "# 37. Develop a program that calculates the nth term of the Fibonacci sequence using memoization.\n",
    "def fibonacci_memoization(n, memo={}):\n",
    "    if n in memo:\n",
    "        return memo[n]\n",
    "    if n <= 1:\n",
    "        return n\n",
    "    memo[n] = fibonacci_memoization(n - 1, memo) + fibonacci_memoization(n - 2, memo)\n",
    "    return memo[n]\n",
    "\n",
    "def main():\n",
    "    print(\"Fibonacci Number Calculator using Memoization\")\n",
    "    try:\n",
    "        n = int(input(\"Enter the value of n: \"))\n",
    "        if n < 0:\n",
    "            print(\"Please enter a non-negative integer.\")\n",
    "            return\n",
    "\n",
    "        result = fibonacci_memoization(n)\n",
    "        print(f\"The {n}th Fibonacci number is {result}\")\n",
    "    except ValueError:\n",
    "        print(\"Invalid input. Please enter a valid integer.\")\n",
    "\n",
    "if __name__ == \"__main__\":\n",
    "    main()\n"
   ]
  },
  {
   "cell_type": "code",
   "execution_count": 27,
   "id": "ba7c5edc-d948-4910-866e-abe53dbbf5ba",
   "metadata": {},
   "outputs": [
    {
     "name": "stdout",
     "output_type": "stream",
     "text": [
      "Calendar Generator\n"
     ]
    },
    {
     "name": "stdin",
     "output_type": "stream",
     "text": [
      "Enter the year (e.g., 2023):  2023\n",
      "Enter the month (1-12):  4\n"
     ]
    },
    {
     "name": "stdout",
     "output_type": "stream",
     "text": [
      "\n",
      "Calendar:\n",
      "     April 2023\n",
      "Mo Tu We Th Fr Sa Su\n",
      "                1  2\n",
      " 3  4  5  6  7  8  9\n",
      "10 11 12 13 14 15 16\n",
      "17 18 19 20 21 22 23\n",
      "24 25 26 27 28 29 30\n",
      "\n"
     ]
    }
   ],
   "source": [
    "# 38. Create a program that generates a calendar for a given month and year using conditional statements.\n",
    "import calendar\n",
    "\n",
    "def generate_calendar(year, month):\n",
    "    cal = calendar.month(year, month)\n",
    "    return cal\n",
    "\n",
    "def main():\n",
    "    print(\"Calendar Generator\")\n",
    "    try:\n",
    "        year = int(input(\"Enter the year (e.g., 2023): \"))\n",
    "        month = int(input(\"Enter the month (1-12): \"))\n",
    "\n",
    "        if year < 1 or month < 1 or month > 12:\n",
    "            print(\"Invalid input. Please enter a valid year and month.\")\n",
    "            return\n",
    "\n",
    "        cal = generate_calendar(year, month)\n",
    "        print(\"\\nCalendar:\")\n",
    "        print(cal)\n",
    "    except ValueError:\n",
    "        print(\"Invalid input. Please enter valid integers.\")\n",
    "\n",
    "if __name__ == \"__main__\":\n",
    "    main()\n"
   ]
  },
  {
   "cell_type": "code",
   "execution_count": 28,
   "id": "63976b8a-0530-48f9-a47d-933a7bbd6ad1",
   "metadata": {},
   "outputs": [
    {
     "name": "stdout",
     "output_type": "stream",
     "text": [
      "Welcome to Blackjack!\n",
      "Hand: 10 3\n",
      "Hand: 7 (hidden) Q\n"
     ]
    },
    {
     "name": "stdin",
     "output_type": "stream",
     "text": [
      "Do you want to hit (h) or stand (s)?  h\n"
     ]
    },
    {
     "name": "stdout",
     "output_type": "stream",
     "text": [
      "Hand: 10 3 5\n"
     ]
    },
    {
     "name": "stdin",
     "output_type": "stream",
     "text": [
      "Do you want to hit (h) or stand (s)?  s\n"
     ]
    },
    {
     "name": "stdout",
     "output_type": "stream",
     "text": [
      "Hand: 7 Q\n",
      "You win!\n"
     ]
    },
    {
     "name": "stdin",
     "output_type": "stream",
     "text": [
      "Do you want to play again? (yes/no):  no\n"
     ]
    }
   ],
   "source": [
    "# 39. Build a program that simulates a basic text-based blackjack game against the computer.\n",
    "import random\n",
    "\n",
    "def deal_card():\n",
    "    \"\"\"Deal a random card.\"\"\"\n",
    "    cards = ['2', '3', '4', '5', '6', '7', '8', '9', '10', 'J', 'Q', 'K', 'A']\n",
    "    return random.choice(cards)\n",
    "\n",
    "def calculate_hand_value(hand):\n",
    "    \"\"\"Calculate the value of a hand.\"\"\"\n",
    "    values = {'2': 2, '3': 3, '4': 4, '5': 5, '6': 6, '7': 7, '8': 8, '9': 9, '10': 10, 'J': 10, 'Q': 10, 'K': 10, 'A': 11}\n",
    "    value = sum([values[card] for card in hand])\n",
    "\n",
    "    # Handle Aces\n",
    "    num_aces = hand.count('A')\n",
    "    while num_aces > 0 and value > 21:\n",
    "        value -= 10\n",
    "        num_aces -= 1\n",
    "\n",
    "    return value\n",
    "\n",
    "def print_hand(hand, hide_first_card=False):\n",
    "    \"\"\"Print a player's hand.\"\"\"\n",
    "    if hide_first_card:\n",
    "        print(f'Hand: {hand[0]} (hidden) {\" \".join(hand[1:])}')\n",
    "    else:\n",
    "        print(f'Hand: {\" \".join(hand)}')\n",
    "\n",
    "def main():\n",
    "    print(\"Welcome to Blackjack!\")\n",
    "\n",
    "    while True:\n",
    "        player_hand = [deal_card(), deal_card()]\n",
    "        computer_hand = [deal_card(), deal_card()]\n",
    "\n",
    "        print_hand(player_hand)\n",
    "        print_hand(computer_hand, hide_first_card=True)\n",
    "\n",
    "        # Player's turn\n",
    "        while True:\n",
    "            choice = input(\"Do you want to hit (h) or stand (s)? \").strip().lower()\n",
    "            if choice == 'h':\n",
    "                player_hand.append(deal_card())\n",
    "                print_hand(player_hand)\n",
    "                if calculate_hand_value(player_hand) > 21:\n",
    "                    print(\"Bust! You lose.\")\n",
    "                    break\n",
    "            elif choice == 's':\n",
    "                break\n",
    "            else:\n",
    "                print(\"Invalid choice. Please enter 'h' or 's'.\")\n",
    "\n",
    "        # Computer's turn\n",
    "        while calculate_hand_value(computer_hand) < 17:\n",
    "            computer_hand.append(deal_card())\n",
    "\n",
    "        print_hand(computer_hand)\n",
    "\n",
    "        player_value = calculate_hand_value(player_hand)\n",
    "        computer_value = calculate_hand_value(computer_hand)\n",
    "\n",
    "        if player_value > 21:\n",
    "            print(\"Bust! You lose.\")\n",
    "        elif computer_value > 21:\n",
    "            print(\"Computer busts. You win!\")\n",
    "        elif player_value > computer_value:\n",
    "            print(\"You win!\")\n",
    "        elif computer_value > player_value:\n",
    "            print(\"Computer wins.\")\n",
    "        else:\n",
    "            print(\"It's a tie!\")\n",
    "\n",
    "        play_again = input(\"Do you want to play again? (yes/no): \").strip().lower()\n",
    "        if play_again != 'yes':\n",
    "            break\n",
    "\n",
    "if __name__ == \"__main__\":\n",
    "    main()\n"
   ]
  },
  {
   "cell_type": "code",
   "execution_count": 29,
   "id": "7007ea1d-ecbd-41cf-a879-de27a3fbb1f2",
   "metadata": {},
   "outputs": [
    {
     "name": "stdout",
     "output_type": "stream",
     "text": [
      "Prime Factor Generator\n"
     ]
    },
    {
     "name": "stdin",
     "output_type": "stream",
     "text": [
      "Enter a positive integer:  3\n"
     ]
    },
    {
     "name": "stdout",
     "output_type": "stream",
     "text": [
      "3 is a prime number.\n"
     ]
    }
   ],
   "source": [
    "# 40. Write a program that generates the prime factors of a given number using trial division.\n",
    "def prime_factors(n):\n",
    "    factors = []\n",
    "    divisor = 2  # Start with the smallest prime divisor\n",
    "\n",
    "    while divisor <= n:\n",
    "        if n % divisor == 0:\n",
    "            factors.append(divisor)\n",
    "            n //= divisor\n",
    "        else:\n",
    "            divisor += 1\n",
    "\n",
    "    return factors\n",
    "\n",
    "def main():\n",
    "    print(\"Prime Factor Generator\")\n",
    "    try:\n",
    "        n = int(input(\"Enter a positive integer: \"))\n",
    "        if n <= 0:\n",
    "            print(\"Please enter a positive integer.\")\n",
    "            return\n",
    "\n",
    "        factors = prime_factors(n)\n",
    "        if len(factors) == 1:\n",
    "            print(f\"{n} is a prime number.\")\n",
    "        else:\n",
    "            print(f\"The prime factors of {n} are: {', '.join(map(str, factors))}\")\n",
    "    except ValueError:\n",
    "        print(\"Invalid input. Please enter a valid integer.\")\n",
    "\n",
    "if __name__ == \"__main__\":\n",
    "    main()\n"
   ]
  },
  {
   "cell_type": "code",
   "execution_count": null,
   "id": "b9d720ef-b96a-4b97-b299-724d2b5d4a13",
   "metadata": {},
   "outputs": [],
   "source": []
  }
 ],
 "metadata": {
  "kernelspec": {
   "display_name": "Python 3 (ipykernel)",
   "language": "python",
   "name": "python3"
  },
  "language_info": {
   "codemirror_mode": {
    "name": "ipython",
    "version": 3
   },
   "file_extension": ".py",
   "mimetype": "text/x-python",
   "name": "python",
   "nbconvert_exporter": "python",
   "pygments_lexer": "ipython3",
   "version": "3.10.8"
  }
 },
 "nbformat": 4,
 "nbformat_minor": 5
}
